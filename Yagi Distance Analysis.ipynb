{
 "cells": [
  {
   "cell_type": "code",
   "execution_count": 1,
   "id": "f3e86127",
   "metadata": {},
   "outputs": [],
   "source": [
    "%matplotlib inline   \n",
    "\n",
    "# load the libraries\n",
    "import matplotlib.pyplot as plt # 2D plotting library\n",
    "import numpy as np              # package for scientific computing  \n",
    "\n",
    "import math              # package for mathematics (pi, arctan, sqrt, factorial ...)\n",
    "\n",
    "import cmath \n",
    "from sympy import symbols, I, exp, diff, lambdify\n"
   ]
  },
  {
   "cell_type": "markdown",
   "id": "b048985f",
   "metadata": {},
   "source": [
    "# Computing the Intensity Profile of a Yagi Uda Antenna"
   ]
  },
  {
   "cell_type": "code",
   "execution_count": 6,
   "id": "39b83c45",
   "metadata": {},
   "outputs": [],
   "source": [
    "\"All lengths given in units of the wavelength lambda\"\n",
    "l_1 =  [0.6, 0.5, 0.45, 0.45, 0.45] #antenna lengths. \n",
    "l_2 =[0.001, 0.001, 0.001, 0.001, 0.001] #antenna radii\n",
    "l_3 = [(0,0), (0.5,0), (1,0), (1.5,0), (2,0)] #antenna position\n",
    "\n",
    "V = [0, 1, 0, 0, 0] #voltage in each antenna\n",
    "\n",
    "def G_new(p, q, k, z, z_1, L_1, L_2, L_3):\n",
    "   \n",
    "    \"\"\"\n",
    "\n",
    "    Parameters\n",
    "    ----------\n",
    "    p, q: antenna indexes\n",
    "    k : wavenumber\n",
    "    z : \n",
    "    z_1 : z'\n",
    "    L_1, L_2, L_3: list of antennas characteristic (ordered in the same order as the antennas in the linear array)\n",
    "    Returns so called impedance kernel=Green function, used to compute the impedance coefficients\n",
    "    -------\n",
    "    \"\"\"\n",
    "\n",
    "    #print(L_2)\n",
    "    if p == q:\n",
    "        d = L_2[p]\n",
    "    else:\n",
    "        d = math.sqrt((L_3[p][0] - L_3[q][0])**2+ (L_3[p][1] - L_3[q][1])**2)\n",
    "    #print(d)\n",
    "    R = math.sqrt((z - z_1)**2 + d**2)\n",
    "    if R < 1e-6:  # threshold for small distances\n",
    "        return 0 \n",
    "    #print(R)\n",
    "    return (cmath.exp(-k * R*1j))/R\n",
    "\n",
    "\n",
    "def Z_new(p, q, k=1):\n",
    "    \"\"\"\n",
    "    Compute the coefficient of entry (p, q) of the impedance matrix (after integration by part). \n",
    "    In fact, no need to put k as argument.\n",
    "    Note: The same formula can be retrieved with the near-field expression\n",
    "    p, q: index of coeff Zpq in the impedance matrix\n",
    "\n",
    "    \"\"\"\n",
    "    global l_1, l_2, l_3\n",
    "    wavelength = 2*math.pi/k\n",
    "    L_1 = [l*wavelength for l in l_1]\n",
    "    L_2 = [l*wavelength for l in l_2]\n",
    "    L_3 = [(x*wavelength, y*wavelength) for (x, y) in l_3]\n",
    "    h_p = L_1[p]/2\n",
    "    h_q = L_1[q]/2\n",
    "    if p == q:\n",
    "        N = 500 \n",
    "    else:\n",
    "        N = 300\n",
    "    Z = 0\n",
    "    eta = 376.7 #sqrt(mu_0/epsilon_0)\n",
    "    \n",
    "    for n in range(-N//2, N//2+1):\n",
    "        z_1 = (n*2*h_q)/N\n",
    "        dz_1 = 2*h_q/N\n",
    "        g1 = G_new(p, q, k, h_p, z_1, L_1, L_2, L_3)\n",
    "        g2 = G_new(p, q, k, -h_p, z_1, L_1, L_2, L_3)\n",
    "        g3 = G_new(p, q, k, 0, z_1, L_1, L_2, L_3)\n",
    "        sinq = math.sin(k*(h_q- abs(z_1)))\n",
    "        Z += sinq*(g1+g2-2*np.cos(k*h_p)*g3)*dz_1\n",
    "    Z = Z*(complex(0, eta/(4*math.pi)))*1/(np.sin(k*h_p)*np.sin(k*h_q))          \n",
    "    return Z   "
   ]
  },
  {
   "cell_type": "code",
   "execution_count": 7,
   "id": "26b1a453",
   "metadata": {},
   "outputs": [],
   "source": [
    "def matrixZ_new(k):\n",
    "    \"\"\"\n",
    "    Compute the impedance matrix Z for antenna arrays\n",
    "    \n",
    "    \"\"\"\n",
    "    n = len(l_1) #nb of antennas\n",
    "    #matZ = np.matrix([[Z(p,q,k) for q in range(0,n)] for p in range(0,n)])\n",
    "    matZ= np.zeros((n, n), dtype=complex)\n",
    "    for p in range(0, n):\n",
    "        for q in range(0, p+1):\n",
    "            Z_pq =  Z_new(p,q,k)\n",
    "            if p == q:\n",
    "                matZ[p][q] = Z_pq\n",
    "            else:\n",
    "                matZ[p][q] = Z_pq\n",
    "                matZ[q][p] = Z_pq\n",
    "    return matZ"
   ]
  },
  {
   "cell_type": "code",
   "execution_count": 8,
   "id": "22c8ec47",
   "metadata": {
    "scrolled": false
   },
   "outputs": [
    {
     "data": {
      "text/plain": [
       "array([[132.36384086+255.61023395j, -17.32401062 -39.89645606j,\n",
       "          4.87386307 +20.67505743j,  -2.31176679 -14.39613386j,\n",
       "          1.33226521 +10.97434186j],\n",
       "       [-17.32401062 -39.89645606j,  73.07234101 +42.10172239j,\n",
       "        -10.67083357 -25.86672456j,   3.34582537 +15.22053164j,\n",
       "         -1.56505923 -10.52793085j],\n",
       "       [  4.87386307 +20.67505743j, -10.67083357 -25.86672456j,\n",
       "         54.28690836 -51.13835024j,  -9.0910732  -22.38294374j,\n",
       "          2.78912156 +13.06710927j],\n",
       "       [ -2.31176679 -14.39613386j,   3.34582537 +15.22053164j,\n",
       "         -9.0910732  -22.38294374j,  54.28690836 -51.13835024j,\n",
       "         -9.0910732  -22.38294374j],\n",
       "       [  1.33226521 +10.97434186j,  -1.56505923 -10.52793085j,\n",
       "          2.78912156 +13.06710927j,  -9.0910732  -22.38294374j,\n",
       "         54.28690836 -51.13835024j]])"
      ]
     },
     "execution_count": 8,
     "metadata": {},
     "output_type": "execute_result"
    }
   ],
   "source": [
    "matrixZ_new(1)"
   ]
  },
  {
   "cell_type": "code",
   "execution_count": 23,
   "id": "907946e6",
   "metadata": {},
   "outputs": [],
   "source": [
    "def input_current(V,Z):\n",
    "    I = np.linalg.solve(Z, V)\n",
    "    return I  "
   ]
  },
  {
   "cell_type": "code",
   "execution_count": 24,
   "id": "d7c3a552",
   "metadata": {},
   "outputs": [],
   "source": [
    "V = [0, 1]+[0]*(len(l_1)-2) #=[0, 1, 0, 0, 0] for 5 elements"
   ]
  },
  {
   "cell_type": "code",
   "execution_count": 25,
   "id": "49cb3bec",
   "metadata": {},
   "outputs": [],
   "source": [
    "def radiation_U_2(k, l_1, l_2, l_3):\n",
    "    \"\"\"\n",
    "    radiation intensity for the SPECIFIC case of antenna arrays along x-axis, which needs to be refined for other types.\n",
    "    k: wavenumber of the emitted wave\n",
    "    careful at theta = 0, theta = pi\n",
    "    \"\"\"\n",
    "\n",
    "    wavelength = 2*math.pi/k\n",
    "    L_1 = [l*wavelength for l in l_1]\n",
    "    L_2 = [l*wavelength for l in l_2]\n",
    "    L_3 = [(x*wavelength, y*wavelength) for (x, y) in l_3]\n",
    "    \n",
    "    eta = 376.7 #sqrt(mu_0/epsilon_0)\n",
    "    #theta = np.pi/2\n",
    "    M = 400\n",
    "    theta = np.linspace(0, np.pi, M)\n",
    "    #phi = np.linspace(0, 2*np.pi, 500) #for 3D plot\n",
    "    phi = 0 #np.pi #choose expected direction of propagation for 2D plot\n",
    "    I = input_current(V,matrixZ_new(k))\n",
    "    U = np.zeros_like(theta, dtype=complex)  # to accumulate field\n",
    "    for p in range(0, len(L_1)):\n",
    "        h_p = L_1[p]/2\n",
    "        mask = (theta != 0) & (theta != np.pi) #to deal with division by 0 at theta = 0 and theta = pi\n",
    "        term1 = np.exp(1j*k*np.sin(theta)*L_3[p][0]*np.cos(phi))\n",
    "        term2 = np.zeros_like(theta)\n",
    "        term2[mask] = (np.cos(k*h_p*np.cos(theta[mask]))-np.cos(k*h_p))/(np.sin(k*h_p)*np.sin(theta[mask]))\n",
    "        U += I[p]*term1*term2\n",
    "    U= (eta/(8*np.pi**2))*abs(U)**2\n",
    "   \n",
    "    \n",
    "    return U,theta"
   ]
  },
  {
   "cell_type": "markdown",
   "id": "a15e1f77",
   "metadata": {},
   "source": [
    "# Investigating the Beam Width of a Yagi Uda Configuration"
   ]
  },
  {
   "cell_type": "code",
   "execution_count": 40,
   "id": "ad7e0457",
   "metadata": {},
   "outputs": [],
   "source": [
    "def beam_width_phi0(k, l1, l2, l3):\n",
    "    # Compute radiation intensity and theta values once\n",
    "    U, theta = radiation_U_2(k, l1, l2, l3)\n",
    "\n",
    "    # Half-power threshold\n",
    "    U_half = np.max(U) / 2\n",
    "    deltaU = U - U_half\n",
    "\n",
    "    indices = []\n",
    "    i = 0\n",
    "    while i < len(deltaU) - 1:\n",
    "        # Falling edge: U > U_half to U < U_half\n",
    "        while i < len(deltaU) - 1 and deltaU[i] > 0:\n",
    "            i += 1\n",
    "        if i < len(deltaU) - 1:\n",
    "            idx = i - 1\n",
    "            if len(indices) == 0 or indices[-1] != idx:\n",
    "                indices.append(idx)\n",
    "\n",
    "        # Rising edge: U < U_half to U > U_half\n",
    "        while i < len(deltaU) - 1 and deltaU[i] < 0:\n",
    "            i += 1\n",
    "        if i < len(deltaU) - 1:\n",
    "            idx = i - 1\n",
    "            if len(indices) == 0 or indices[-1] != idx:\n",
    "                indices.append(idx)\n",
    "\n",
    "    # Final filter: remove any crossings where theta ≈ π (e.g. > π - 0.01)\n",
    "    indices = [idx for idx in indices if theta[idx] < np.pi - 1e-2]\n",
    "\n",
    "\n",
    "    if len(indices) < 2:\n",
    "        print(\"Could not find enough valid half-power points.\")\n",
    "        return None\n",
    "    \n",
    "    # Plotting\n",
    "    #plt.plot(theta, U, label='U(θ)')\n",
    "    #plt.axhline(y=U_half, color='r', linestyle='--', label='Half Power')\n",
    "    #for idx in indices:\n",
    "        #plt.axvline(x=theta[idx], color='g', linestyle='--')\n",
    "    #plt.xlabel(\"θ (radians)\")\n",
    "    #plt.ylabel(\"Radiation Intensity U(θ)\")\n",
    "    #plt.title(\"Radiation Pattern at φ = 0\")\n",
    "    #plt.grid(True)\n",
    "    #plt.legend()\n",
    "    #plt.show()\n",
    "\n",
    "    # Beamwidth across all valid lobes\n",
    "    return abs(theta[indices[-1]] - theta[indices[0]])"
   ]
  },
  {
   "cell_type": "code",
   "execution_count": 41,
   "id": "116b147d",
   "metadata": {},
   "outputs": [
    {
     "data": {
      "text/plain": [
       "0.7873665798470659"
      ]
     },
     "execution_count": 41,
     "metadata": {},
     "output_type": "execute_result"
    }
   ],
   "source": [
    "beam_width_phi0(2*np.pi,l_1,l_2,l_3)"
   ]
  },
  {
   "cell_type": "code",
   "execution_count": 42,
   "id": "8482220f",
   "metadata": {},
   "outputs": [],
   "source": [
    "def seperation_beamwidth_relation(k, l1, l2):\n",
    "    # Generate separations from 0.1 to 1.0\n",
    "    sep = np.linspace(0.1, 5.0, 500)\n",
    "\n",
    "    # Create array of element positions for each separation\n",
    "    configs = [[(i * dist, 0) for i in range(5)] for dist in sep]\n",
    "\n",
    "    # Calculate beamwidths\n",
    "    beam_widths = np.array([\n",
    "        beam_width_phi0(k, l1, l2, config) for config in configs\n",
    "    ])\n",
    "\n",
    "    # Find the separation that gives the minimum beamwidth\n",
    "    min_index = np.nanargmin(beam_widths)\n",
    "    min_sep = sep[min_index]\n",
    "    min_beamwidth = beam_widths[min_index]\n",
    "\n",
    "    # Plot\n",
    "    plt.plot(sep, beam_widths, label='Beamwidth vs Separation')\n",
    "    plt.axvline(x=min_sep, color='r', linestyle='--', label=f'Min @ {min_sep:.3f}')\n",
    "    plt.scatter([min_sep], [min_beamwidth], color='red')  # highlight min point\n",
    "    plt.xlabel(\"Separation (λ)\")\n",
    "    plt.ylabel(\"Beamwidth (radians)\")\n",
    "    plt.title(\"Relation Between Element Separation and Beamwidth\")\n",
    "    plt.grid(True)\n",
    "    plt.legend()\n",
    "    plt.show()\n",
    "\n",
    "    return min_sep"
   ]
  },
  {
   "cell_type": "markdown",
   "id": "6518bc53",
   "metadata": {},
   "source": [
    "### Relating the Speration between Antennae to Beamwidth"
   ]
  },
  {
   "cell_type": "code",
   "execution_count": 43,
   "id": "216dab1d",
   "metadata": {},
   "outputs": [
    {
     "data": {
      "image/png": "[encoded data removed]",
      "text/plain": [
       "<Figure size 640x480 with 1 Axes>"
      ]
     },
     "metadata": {},
     "output_type": "display_data"
    },
    {
     "data": {
      "text/plain": [
       "3.625250501002004"
      ]
     },
     "execution_count": 43,
     "metadata": {},
     "output_type": "execute_result"
    }
   ],
   "source": [
    "seperation_beamwidth_relation(3*np.pi,l_1,l_2)"
   ]
  },
  {
   "cell_type": "code",
   "execution_count": null,
   "id": "146461eb",
   "metadata": {},
   "outputs": [],
   "source": []
  },
  {
   "cell_type": "code",
   "execution_count": null,
   "id": "60a1d34a",
   "metadata": {},
   "outputs": [],
   "source": []
  }
 ],
 "metadata": {
  "kernelspec": {
   "display_name": "Python 3 (ipykernel)",
   "language": "python",
   "name": "python3"
  },
  "language_info": {
   "codemirror_mode": {
    "name": "ipython",
    "version": 3
   },
   "file_extension": ".py",
   "mimetype": "text/x-python",
   "name": "python",
   "nbconvert_exporter": "python",
   "pygments_lexer": "ipython3",
   "version": "3.11.4"
  }
 },
 "nbformat": 4,
 "nbformat_minor": 5
}
