{
 "cells": [
  {
   "cell_type": "code",
   "execution_count": 2,
   "id": "f3e86127",
   "metadata": {},
   "outputs": [],
   "source": [
    "%matplotlib inline   \n",
    "\n",
    "# load the libraries\n",
    "import matplotlib.pyplot as plt # 2D plotting library\n",
    "import numpy as np              # package for scientific computing  \n",
    "\n",
    "import math              # package for mathematics (pi, arctan, sqrt, factorial ...)\n",
    "\n",
    "import cmath \n",
    "from sympy import symbols, I, exp, diff, lambdify\n",
    "from scipy.optimize import minimize"
   ]
  },
  {
   "cell_type": "markdown",
   "id": "b048985f",
   "metadata": {},
   "source": [
    "# Computing the Intensity Profile of a Yagi Uda Antenna"
   ]
  },
  {
   "cell_type": "code",
   "execution_count": 3,
   "id": "39b83c45",
   "metadata": {},
   "outputs": [],
   "source": [
    "\"All lengths given in units of the wavelength lambda\"\n",
    "l_1 =  [0.5, 0.48, 0.46, 0.46, 0.46, 0.46] #antenna lengths. \n",
    "l_2 =[0.003, 0.003, 0.003, 0.003, 0.003, 0.003] #antenna radii\n",
    "l_3 = [(0,0), (0.125,0), (0.25,0), (0.375, 0), (0.5, 0),(0.625,0)] #antenna position\n",
    "\n",
    "V = [0, 1, 0, 0, 0,0] #voltage in each antenna\n",
    "\n",
    "def G_new(p, q, k, z, z_1, L_1, L_2, L_3):\n",
    "   \n",
    "    \"\"\"\n",
    "\n",
    "    Parameters\n",
    "    ----------\n",
    "    p, q: antenna indexes\n",
    "    k : wavenumber\n",
    "    z : \n",
    "    z_1 : z'\n",
    "    L_1, L_2, L_3: list of antennas characteristic (ordered in the same order as the antennas in the linear array)\n",
    "    Returns so called impedance kernel=Green function, used to compute the impedance coefficients\n",
    "    -------\n",
    "    \"\"\"\n",
    "\n",
    "    #print(L_2)\n",
    "    if p == q:\n",
    "        d = L_2[p]\n",
    "    else:\n",
    "        d = math.sqrt((L_3[p][0] - L_3[q][0])**2+ (L_3[p][1] - L_3[q][1])**2)\n",
    "    #print(d)\n",
    "    R = math.sqrt((z - z_1)**2 + d**2)\n",
    "    if R < 1e-6:  # threshold for small distances\n",
    "        return 0 \n",
    "    #print(R)\n",
    "    return (cmath.exp(-k * R*1j))/R\n",
    "\n",
    "\n",
    "def Z_new(p, q, k=1):\n",
    "    \"\"\"\n",
    "    Compute the coefficient of entry (p, q) of the impedance matrix (after integration by part). \n",
    "    In fact, no need to put k as argument.\n",
    "    Note: The same formula can be retrieved with the near-field expression\n",
    "    p, q: index of coeff Zpq in the impedance matrix\n",
    "\n",
    "    \"\"\"\n",
    "    global l_1, l_2, l_3\n",
    "    wavelength = 2*math.pi/k\n",
    "    L_1 = [l*wavelength for l in l_1]\n",
    "    L_2 = [l*wavelength for l in l_2]\n",
    "    L_3 = [(x*wavelength, y*wavelength) for (x, y) in l_3]\n",
    "    h_p = L_1[p]/2\n",
    "    h_q = L_1[q]/2\n",
    "    if p == q:\n",
    "        N = 500 \n",
    "    else:\n",
    "        N = 300\n",
    "    Z = 0\n",
    "    eta = 376.7 #sqrt(mu_0/epsilon_0)\n",
    "    \n",
    "    for n in range(-N//2, N//2+1):\n",
    "        z_1 = (n*2*h_q)/N\n",
    "        dz_1 = 2*h_q/N\n",
    "        g1 = G_new(p, q, k, h_p, z_1, L_1, L_2, L_3)\n",
    "        g2 = G_new(p, q, k, -h_p, z_1, L_1, L_2, L_3)\n",
    "        g3 = G_new(p, q, k, 0, z_1, L_1, L_2, L_3)\n",
    "        sinq = math.sin(k*(h_q- abs(z_1)))\n",
    "        Z += sinq*(g1+g2-2*np.cos(k*h_p)*g3)*dz_1\n",
    "    Z = Z*(complex(0, eta/(4*math.pi)))*1/(np.sin(k*h_p)*np.sin(k*h_q))          \n",
    "    return Z   "
   ]
  },
  {
   "cell_type": "code",
   "execution_count": 4,
   "id": "26b1a453",
   "metadata": {},
   "outputs": [],
   "source": [
    "def matrixZ_new(k):\n",
    "    \"\"\"\n",
    "    Compute the impedance matrix Z for antenna arrays\n",
    "    \n",
    "    \"\"\"\n",
    "    n = len(l_1) #nb of antennas\n",
    "    #matZ = np.matrix([[Z(p,q,k) for q in range(0,n)] for p in range(0,n)])\n",
    "    matZ= np.zeros((n, n), dtype=complex)\n",
    "    for p in range(0, n):\n",
    "        for q in range(0, p+1):\n",
    "            Z_pq =  Z_new(p,q,k)\n",
    "            if p == q:\n",
    "                matZ[p][q] = Z_pq\n",
    "            else:\n",
    "                matZ[p][q] = Z_pq\n",
    "                matZ[q][p] = Z_pq\n",
    "    return matZ"
   ]
  },
  {
   "cell_type": "code",
   "execution_count": 5,
   "id": "907946e6",
   "metadata": {},
   "outputs": [],
   "source": [
    "def input_current(V,Z):\n",
    "    I = np.linalg.solve(Z, V)\n",
    "    return I  "
   ]
  },
  {
   "cell_type": "code",
   "execution_count": 6,
   "id": "d7c3a552",
   "metadata": {},
   "outputs": [],
   "source": [
    "V = [0, 1]+[0]*(len(l_1)-2) #=[0, 1, 0, 0, 0] for 5 elements"
   ]
  },
  {
   "cell_type": "code",
   "execution_count": 51,
   "id": "49cb3bec",
   "metadata": {},
   "outputs": [],
   "source": [
    "def radiation_intensity(k, theta, phi, l1,l2,l3):\n",
    "    \"\"\"\n",
    "    Radiation intensity for the SPECIFIC case of antenna arrays along x-axis, which needs to be refined for other types.\n",
    "    k: wavenumber of the emitted wave\n",
    "    theta, phi: spherical coordinates\n",
    "    Issue solved at theta = 0, theta = pi\n",
    "    \"\"\"\n",
    "    def identify_vector_arg(theta, phi):\n",
    "        if np.ndim(theta) > 0:\n",
    "            vector_arg = theta\n",
    "        else:\n",
    "            vector_arg = phi\n",
    "        return vector_arg\n",
    "\n",
    "    wavelength = 2*math.pi/k\n",
    "    L_1 = [l*wavelength for l in l1]\n",
    "    L_2 = [l*wavelength for l in l2]\n",
    "    L_3 = [(x*wavelength, y*wavelength) for (x, y) in l3]\n",
    "    \n",
    "    eta = 376.7 #sqrt(mu_0/epsilon_0)\n",
    "    I = input_current(V,matrixZ_new(k))\n",
    "    \n",
    "    M = identify_vector_arg(theta, phi)\n",
    "    U = np.zeros_like(M, dtype=complex)  # to accumulate field\n",
    "    for p in range(0, len(L_1)):\n",
    "        h_p = L_1[p]/2\n",
    "        term1 = np.exp(1j*k*np.sin(theta)*L_3[p][0]*np.cos(phi))\n",
    "        if M is theta:\n",
    "            mask = (theta != 0) & (theta != np.pi) #to deal with division by 0 at theta = 0 and theta = pi\n",
    "            term2 = np.zeros_like(theta)\n",
    "            term2[mask] = (np.cos(k*h_p*np.cos(theta[mask]))-np.cos(k*h_p))/(np.sin(k*h_p)*np.sin(theta[mask]))\n",
    "        elif theta == 0 or theta == np.pi:\n",
    "            term2 = np.zeros_like(theta)\n",
    "        else:\n",
    "            term2 =  (np.cos(k*h_p*np.cos(theta))-np.cos(k*h_p))/(np.sin(k*h_p)*np.sin(theta))\n",
    "        U += I[p]*term1*term2\n",
    "    return (eta/(8*np.pi**2))*abs(U)**2\n",
    "\n",
    "def decibels_radiation(k, theta, phi, l1,l2,l3):\n",
    "    \n",
    "    return 10*np.log10(radiation_intensity(k, theta, phi, l1,l2,l3))\n",
    "\n",
    "def radiation_theta(k, phi, l1, l2, l3):\n",
    "    theta = np.linspace(-np.pi, np.pi, 500)  # θ from 0 to π (forward and backward hemisphere)\n",
    "    U = decibels_radiation(k, theta, phi, l1, l2, l3)\n",
    "\n",
    "\n",
    "    # Plot in polar coordinates\n",
    "    #fig = plt.figure(figsize=(6, 6))\n",
    "    #ax = plt.subplot(111, projection='polar')\n",
    "    #ax.plot(theta, U)\n",
    "    #ax.set_title(f\"Radiation Pattern at φ = {phi} (polar)\", va='bottom')\n",
    "    #ax.grid(True)\n",
    "    #ax.set_rlim(-50, 0)\n",
    "\n",
    "    #plt.show()\n",
    "\n",
    "    return U, theta\n",
    "\n",
    "\n",
    "def radiation_phi(k, theta, l1, l2, l3):\n",
    "    phi = np.linspace(-np.pi, np.pi, 500)  # azimuthal angle range\n",
    "    U = decibals_radiation(k, theta, phi, l1, l2, l3)\n",
    "\n",
    "    # Plot in polar coordinates\n",
    "    #fig = plt.figure(figsize=(6, 6))\n",
    "    #ax = plt.subplot(111, projection='polar')\n",
    "    #ax.plot(phi, U)\n",
    "    #ax.set_title(f\"Radiation Pattern at θ = {theta} (polar)\", va='bottom')\n",
    "    #ax.grid(True)\n",
    "    #ax.set_rlim(-50, 0)\n",
    "\n",
    "    #plt.show()\n",
    "\n",
    "    return U, phi\n",
    "    "
   ]
  },
  {
   "cell_type": "markdown",
   "id": "a15e1f77",
   "metadata": {},
   "source": [
    "# Investigating the Beam Width of a Yagi Uda Configuration"
   ]
  },
  {
   "cell_type": "code",
   "execution_count": 52,
   "id": "ad7e0457",
   "metadata": {},
   "outputs": [],
   "source": [
    "def beam_width_theta(k, phi, l1, l2, l3):\n",
    "    # Compute radiation intensity and theta values once\n",
    "    U =  radiation_theta(k,phi,l1,l2,l3)[0]\n",
    "    theta = radiation_theta(k,phi,l1,l2,l3)[1]\n",
    "\n",
    "    # Half-power threshold\n",
    "    U_half = np.max(U) / 2\n",
    "    deltaU = U - U_half\n",
    "\n",
    "    indices = []\n",
    "    i = 0\n",
    "    while i < len(deltaU) - 1:\n",
    "        # Falling edge: U > U_half to U < U_half\n",
    "        while i < len(deltaU) - 1 and deltaU[i] > 0:\n",
    "            i += 1\n",
    "        if i < len(deltaU) - 1:\n",
    "            idx = i - 1\n",
    "            if len(indices) == 0 or indices[-1] != idx:\n",
    "                indices.append(idx)\n",
    "\n",
    "        # Rising edge: U < U_half to U > U_half\n",
    "        while i < len(deltaU) - 1 and deltaU[i] < 0:\n",
    "            i += 1\n",
    "        if i < len(deltaU) - 1:\n",
    "            idx = i - 1\n",
    "            if len(indices) == 0 or indices[-1] != idx:\n",
    "                indices.append(idx)\n",
    "\n",
    "    # Final filter: remove any crossings where theta ≈ π (e.g. > π - 0.01)\n",
    "    indices = [idx for idx in indices if theta[idx] < np.pi - 1e-2]\n",
    "\n",
    "\n",
    "    if len(indices) < 2:\n",
    "        print(\"Could not find enough valid half-power points.\")\n",
    "        return None\n",
    "    \n",
    "\n",
    "\n",
    "    # Beamwidth across all valid lobes\n",
    "    return abs(theta[indices[-1]] - theta[indices[0]])"
   ]
  },
  {
   "cell_type": "code",
   "execution_count": 53,
   "id": "116b147d",
   "metadata": {},
   "outputs": [
    {
     "name": "stdout",
     "output_type": "stream",
     "text": [
      "Could not find enough valid half-power points.\n"
     ]
    },
    {
     "name": "stderr",
     "output_type": "stream",
     "text": [
      "C:\\Users\\mattc\\AppData\\Local\\Temp\\ipykernel_30132\\4183326593.py:41: RuntimeWarning: divide by zero encountered in log10\n",
      "  return 10*np.log10(radiation_intensity(k, theta, phi, l1,l2,l3))\n"
     ]
    }
   ],
   "source": [
    "beam_width_theta(2*np.pi,0,l_1,l_2,l_3)"
   ]
  },
  {
   "cell_type": "code",
   "execution_count": 54,
   "id": "8482220f",
   "metadata": {},
   "outputs": [],
   "source": [
    "def seperation_beamwidth_relation(k, l1, l2):\n",
    "    # Generate separations from 0.1 to 1.0\n",
    "    sep = np.linspace(0.1, 5.0, 500)\n",
    "\n",
    "    # Create array of element positions for each separation\n",
    "    configs = [[(i * dist, 0) for i in range(5)] for dist in sep]\n",
    "\n",
    "    # Calculate beamwidths\n",
    "    beam_widths = np.array([\n",
    "        beam_width_theta(k,0, l1, l2, config) for config in configs\n",
    "    ])\n",
    "\n",
    "    # Find the separation that gives the minimum beamwidth\n",
    "    min_index = np.nanargmin(beam_widths)\n",
    "    min_sep = sep[min_index]\n",
    "    min_beamwidth = beam_widths[min_index]\n",
    "\n",
    "    # Plot\n",
    "    plt.plot(sep, beam_widths, label='Beamwidth vs Separation')\n",
    "    plt.axvline(x=min_sep, color='r', linestyle='--', label=f'Min @ {min_sep:.3f}')\n",
    "    plt.scatter([min_sep], [min_beamwidth], color='red')  # highlight min point\n",
    "    plt.xlabel(\"Separation (λ)\")\n",
    "    plt.ylabel(\"Beamwidth (radians)\")\n",
    "    plt.title(\"Relation Between Element Separation and Beamwidth\")\n",
    "    plt.grid(True)\n",
    "    plt.legend()\n",
    "    plt.show()\n",
    "\n",
    "    return min_sep"
   ]
  },
  {
   "cell_type": "markdown",
   "id": "e206af47",
   "metadata": {},
   "source": [
    "## Computation of the Directivity by Yagi"
   ]
  },
  {
   "cell_type": "code",
   "execution_count": 55,
   "id": "b35fa2cd",
   "metadata": {},
   "outputs": [],
   "source": [
    "def directivity(k, theta, phi, l1, l2, l3):\n",
    "    THETA, PHI = np.meshgrid(theta, phi, indexing='ij')  # shape (len(theta), len(phi))\n",
    "\n",
    "    # Compute radiation intensity U(θ, φ)\n",
    "    U = radiation_intensity(k, THETA, PHI, l1, l2, l3)  # shape (len(theta), len(phi))\n",
    "\n",
    "    # Integrate total radiated power\n",
    "    integrand = U * np.sin(THETA)\n",
    "\n",
    "    P_rad = np.trapz(np.trapz(integrand, axis=1), axis=0)\n",
    "\n",
    "    if np.isclose(P_rad, 0):\n",
    "        raise ValueError(\"P_rad evaluated to 0. Check radiation_intensity and inputs.\")\n",
    "    \n",
    "    \n",
    "    # Directivity\n",
    "    D = 4 * np.pi * U / P_rad\n",
    "    if np.any(D < 0):\n",
    "        raise ValueError(\"Directivity contains negative values. Check radiation intensity calculation.\")\n",
    "    #A negative dB simply means the directivity is less than 1 \n",
    "    #(i.e., it's radiating less intensely in the peak direction than an isotropic radiator would).\n",
    "    #In the case of Yagi, it should not happen along positive x.\n",
    "    return f'The directivity is {D}, or {10*np.log10(D)} dB'"
   ]
  },
  {
   "cell_type": "code",
   "execution_count": 56,
   "id": "2644a49a",
   "metadata": {},
   "outputs": [],
   "source": [
    "def directivity_plot_2D_azimuthal(k, l1, l2, l3, phi):\n",
    "    \"\"\"\n",
    "    Plots the 2D directivity pattern (in dB) vs theta (standard Cartesian plot).\n",
    "    \n",
    "    Parameters:\n",
    "        k   : wave number (2π / wavelength)\n",
    "        l1, l2, l3 : geometric antenna parameters\n",
    "        phi : azimuth angle in radians (constant during θ sweep)\n",
    "    \"\"\"\n",
    "    # Theta sweep\n",
    "    theta = np.linspace(0, 2*np.pi, 500)\n",
    "    phi_array = np.full_like(theta, phi)\n",
    "\n",
    "    # Compute directivity\n",
    "    D = directivity(k, theta, phi_array, l1, l2, l3)\n",
    "\n",
    "    # Normalize and convert to dB\n",
    "    D_norm = D\n",
    "    D_db = 10 * np.log10(D_norm + 1e-12)\n",
    "    D_db = np.clip(D_db, -50, 0)\n",
    "\n",
    "    # Plot\n",
    "    plt.figure(figsize=(8, 4))\n",
    "    plt.plot(theta * 180 / np.pi, D_db)  # Convert θ to degrees\n",
    "    plt.xlabel(\"Theta (degrees)\")\n",
    "    plt.ylabel(\"Directivity (dB)\")\n",
    "    plt.title(f\"Directivity vs Theta at φ = {phi:.2f} rad\")\n",
    "    plt.ylim(-50, 0)\n",
    "    plt.grid(True)\n",
    "    plt.tight_layout()\n",
    "    plt.show()\n"
   ]
  },
  {
   "cell_type": "code",
   "execution_count": 57,
   "id": "d79b660b",
   "metadata": {
    "scrolled": true
   },
   "outputs": [
    {
     "name": "stderr",
     "output_type": "stream",
     "text": [
      "C:\\Users\\mattc\\AppData\\Local\\Temp\\ipykernel_30132\\1364454486.py:23: RuntimeWarning: divide by zero encountered in log10\n",
      "  return f'The directivity is {D}, or {10*np.log10(D)} dB'\n"
     ]
    },
    {
     "ename": "TypeError",
     "evalue": "can only concatenate str (not \"float\") to str",
     "output_type": "error",
     "traceback": [
      "\u001b[1;31m---------------------------------------------------------------------------\u001b[0m",
      "\u001b[1;31mTypeError\u001b[0m                                 Traceback (most recent call last)",
      "Cell \u001b[1;32mIn[57], line 1\u001b[0m\n\u001b[1;32m----> 1\u001b[0m directivity_plot_2D_azimuthal(\u001b[38;5;241m1.047\u001b[39m,l_1,l_2,l_3, \u001b[38;5;241m0\u001b[39m)\n",
      "Cell \u001b[1;32mIn[56], line 19\u001b[0m, in \u001b[0;36mdirectivity_plot_2D_azimuthal\u001b[1;34m(k, l1, l2, l3, phi)\u001b[0m\n\u001b[0;32m     17\u001b[0m \u001b[38;5;66;03m# Normalize and convert to dB\u001b[39;00m\n\u001b[0;32m     18\u001b[0m D_norm \u001b[38;5;241m=\u001b[39m D\n\u001b[1;32m---> 19\u001b[0m D_db \u001b[38;5;241m=\u001b[39m \u001b[38;5;241m10\u001b[39m \u001b[38;5;241m*\u001b[39m np\u001b[38;5;241m.\u001b[39mlog10(D_norm \u001b[38;5;241m+\u001b[39m \u001b[38;5;241m1e-12\u001b[39m)\n\u001b[0;32m     20\u001b[0m D_db \u001b[38;5;241m=\u001b[39m np\u001b[38;5;241m.\u001b[39mclip(D_db, \u001b[38;5;241m-\u001b[39m\u001b[38;5;241m50\u001b[39m, \u001b[38;5;241m0\u001b[39m)\n\u001b[0;32m     22\u001b[0m \u001b[38;5;66;03m# Plot\u001b[39;00m\n",
      "\u001b[1;31mTypeError\u001b[0m: can only concatenate str (not \"float\") to str"
     ]
    }
   ],
   "source": [
    "directivity_plot_2D_azimuthal(1.047,l_1,l_2,l_3, 0)"
   ]
  },
  {
   "cell_type": "code",
   "execution_count": 58,
   "id": "40507dea",
   "metadata": {},
   "outputs": [],
   "source": [
    "def directivity_vs_phi(k, l1, l2, l3, theta):\n",
    "    \"\"\"\n",
    "    Plots directivity (in dB) vs phi at fixed theta (Cartesian plot).\n",
    "\n",
    "    Parameters:\n",
    "        k     : wave number (2π / wavelength)\n",
    "        l1, l2, l3 : antenna geometry parameters\n",
    "        theta : fixed elevation angle (radians)\n",
    "    \"\"\"\n",
    "    # Sweep phi from 0 to 2π\n",
    "    phi = np.linspace(0, 2 * np.pi, 500)\n",
    "    theta_array = np.full_like(phi, theta)  # Fixed theta for all phi\n",
    "\n",
    "\n",
    "    # Compute directivity\n",
    "    D = directivity(k, phi, theta_array, l1, l2, l3)\n",
    "\n",
    "    # Normalize and convert to dB\n",
    "    D_norm = D \n",
    "    D_db = 10 * np.log10(D_norm + 1e-12)\n",
    "    D_db = np.clip(D_db, -50, 0)\n",
    "\n",
    "    # --- Plot ---\n",
    "    plt.figure(figsize=(8, 4))\n",
    "    plt.plot(np.degrees(phi), D_db)\n",
    "    plt.xlabel(\"Phi (degrees)\")\n",
    "    plt.ylabel(\"Directivity (dB)\")\n",
    "    plt.title(f\"Directivity vs Phi at θ = {np.degrees(theta):.1f}°\")\n",
    "    plt.ylim(-50, 0)\n",
    "    plt.grid(True)\n",
    "    plt.tight_layout()\n",
    "    plt.show()"
   ]
  },
  {
   "cell_type": "code",
   "execution_count": 59,
   "id": "2d313228",
   "metadata": {
    "scrolled": true
   },
   "outputs": [
    {
     "ename": "ValueError",
     "evalue": "P_rad evaluated to 0. Check radiation_intensity and inputs.",
     "output_type": "error",
     "traceback": [
      "\u001b[1;31m---------------------------------------------------------------------------\u001b[0m",
      "\u001b[1;31mValueError\u001b[0m                                Traceback (most recent call last)",
      "Cell \u001b[1;32mIn[59], line 1\u001b[0m\n\u001b[1;32m----> 1\u001b[0m directivity_vs_phi(\u001b[38;5;241m1.047\u001b[39m,l_1,l_2,l_3, np\u001b[38;5;241m.\u001b[39mpi\u001b[38;5;241m/\u001b[39m\u001b[38;5;241m2\u001b[39m)\n",
      "Cell \u001b[1;32mIn[58], line 16\u001b[0m, in \u001b[0;36mdirectivity_vs_phi\u001b[1;34m(k, l1, l2, l3, theta)\u001b[0m\n\u001b[0;32m     12\u001b[0m theta_array \u001b[38;5;241m=\u001b[39m np\u001b[38;5;241m.\u001b[39mfull_like(phi, theta)  \u001b[38;5;66;03m# Fixed theta for all phi\u001b[39;00m\n\u001b[0;32m     15\u001b[0m \u001b[38;5;66;03m# Compute directivity\u001b[39;00m\n\u001b[1;32m---> 16\u001b[0m D \u001b[38;5;241m=\u001b[39m directivity(k, phi, theta_array, l1, l2, l3)\n\u001b[0;32m     18\u001b[0m \u001b[38;5;66;03m# Normalize and convert to dB\u001b[39;00m\n\u001b[0;32m     19\u001b[0m D_norm \u001b[38;5;241m=\u001b[39m D \n",
      "Cell \u001b[1;32mIn[55], line 13\u001b[0m, in \u001b[0;36mdirectivity\u001b[1;34m(k, theta, phi, l1, l2, l3)\u001b[0m\n\u001b[0;32m     10\u001b[0m P_rad \u001b[38;5;241m=\u001b[39m np\u001b[38;5;241m.\u001b[39mtrapz(np\u001b[38;5;241m.\u001b[39mtrapz(integrand, axis\u001b[38;5;241m=\u001b[39m\u001b[38;5;241m1\u001b[39m), axis\u001b[38;5;241m=\u001b[39m\u001b[38;5;241m0\u001b[39m)\n\u001b[0;32m     12\u001b[0m \u001b[38;5;28;01mif\u001b[39;00m np\u001b[38;5;241m.\u001b[39misclose(P_rad, \u001b[38;5;241m0\u001b[39m):\n\u001b[1;32m---> 13\u001b[0m     \u001b[38;5;28;01mraise\u001b[39;00m \u001b[38;5;167;01mValueError\u001b[39;00m(\u001b[38;5;124m\"\u001b[39m\u001b[38;5;124mP_rad evaluated to 0. Check radiation_intensity and inputs.\u001b[39m\u001b[38;5;124m\"\u001b[39m)\n\u001b[0;32m     16\u001b[0m \u001b[38;5;66;03m# Directivity\u001b[39;00m\n\u001b[0;32m     17\u001b[0m D \u001b[38;5;241m=\u001b[39m \u001b[38;5;241m4\u001b[39m \u001b[38;5;241m*\u001b[39m np\u001b[38;5;241m.\u001b[39mpi \u001b[38;5;241m*\u001b[39m U \u001b[38;5;241m/\u001b[39m P_rad\n",
      "\u001b[1;31mValueError\u001b[0m: P_rad evaluated to 0. Check radiation_intensity and inputs."
     ]
    }
   ],
   "source": [
    "directivity_vs_phi(1.047,l_1,l_2,l_3, np.pi/2)"
   ]
  },
  {
   "cell_type": "code",
   "execution_count": 17,
   "id": "d415b218",
   "metadata": {},
   "outputs": [],
   "source": [
    "def max_directivity_db(k, l1, l2, l3):\n",
    "    \"\"\"\n",
    "    Computes the maximum directivity (in dB) over the full sphere.\n",
    "\n",
    "    Parameters:\n",
    "        k     : wave number (2π / wavelength)\n",
    "        l1, l2, l3 : antenna geometry parameters\n",
    "\n",
    "    Returns:\n",
    "        max_D_dB : Maximum directivity in decibels\n",
    "    \"\"\"\n",
    "    # Define angular grid\n",
    "    theta = np.linspace(0, np.pi, 200)\n",
    "    phi = np.linspace(0, 2 * np.pi, 200)\n",
    "    THETA, PHI = np.meshgrid(theta, phi, indexing='ij')\n",
    "\n",
    "    # Compute radiation intensity over the sphere\n",
    "    U = radiation_intensity(k, THETA, PHI, l1, l2, l3)\n",
    "\n",
    "    # Total radiated power\n",
    "    integrand = U * np.sin(THETA)\n",
    "    P_rad = np.trapz(np.trapz(integrand, axis=1), axis=0)\n",
    "\n",
    "    if np.isclose(P_rad, 0):\n",
    "        raise ValueError(\"Total radiated power is zero — check configuration.\")\n",
    "\n",
    "    # Directivity D(θ, φ) = 4π * U(θ, φ) / P_rad\n",
    "    D = 4 * np.pi * U / P_rad\n",
    "    D_max = np.max(D)\n",
    "\n",
    "    # Convert to dB\n",
    "    D_max_dB = 10 * np.log10(D_max + 1e-12)\n",
    "    return D_max_dB"
   ]
  },
  {
   "cell_type": "code",
   "execution_count": 18,
   "id": "c9362d23",
   "metadata": {},
   "outputs": [
    {
     "data": {
      "text/plain": [
       "-23.443903375464636"
      ]
     },
     "execution_count": 18,
     "metadata": {},
     "output_type": "execute_result"
    }
   ],
   "source": [
    "max_directivity_db(5,l_1,l_2,l_3)"
   ]
  },
  {
   "cell_type": "code",
   "execution_count": 33,
   "id": "553d2308",
   "metadata": {},
   "outputs": [],
   "source": [
    "def plot_directivity_vs_spacing(k, l1, l2, spacing_range):\n",
    "    \"\"\"\n",
    "    Plots maximum directivity (in dB) vs element spacing for a 5-element linear array.\n",
    "\n",
    "    Parameters:\n",
    "        k             : wave number (2π / wavelength)\n",
    "        l1, l2        : geometric parameters (e.g., current tapering, etc.)\n",
    "        spacing_range : 1D array of separations (in units of wavelength)\n",
    "    \"\"\"\n",
    "    max_directivities = []\n",
    "\n",
    "    for d in spacing_range:\n",
    "        # Define positions along x-axis\n",
    "        l3 = [(n * d, 0) for n in range(len(l1))]  # 5 elements\n",
    "        D_max_dB = max_directivity_db(k, l1, l2, l3)\n",
    "        max_directivities.append(D_max_dB)\n",
    "\n",
    "    # Plot\n",
    "    plt.figure(figsize=(8, 4))\n",
    "    plt.plot(spacing_range, max_directivities, marker='o')\n",
    "    plt.xlabel(\"Element Spacing (λ)\")\n",
    "    plt.ylabel(\"Max Directivity (dB)\")\n",
    "    plt.title(\"Maximum Directivity vs Element Spacing (\"+str(len(l1))+\"-element linear array)\")\n",
    "    plt.grid(True)\n",
    "    plt.tight_layout()\n",
    "    plt.show()"
   ]
  },
  {
   "cell_type": "code",
   "execution_count": 34,
   "id": "53899a1c",
   "metadata": {},
   "outputs": [
    {
     "data": {
      "image/png": "[encoded data removed]",
      "text/plain": [
       "<Figure size 800x400 with 1 Axes>"
      ]
     },
     "metadata": {},
     "output_type": "display_data"
    }
   ],
   "source": [
    "plot_directivity_vs_spacing(1,l_1,l_2,np.linspace(0.1,5,100))"
   ]
  },
  {
   "cell_type": "code",
   "execution_count": 45,
   "id": "837f8cbd",
   "metadata": {},
   "outputs": [
    {
     "name": "stdout",
     "output_type": "stream",
     "text": [
      "✅ Optimization Complete\n",
      "Optimal Spacings (λ): [0.225  0.201  0.1    0.1794 0.1   ]\n",
      "Maximum Directivity (dB): -21.66\n"
     ]
    }
   ],
   "source": [
    "k = 2 * np.pi  # wave number (assuming λ = 1)\n",
    "l1 = [0.5] * 6\n",
    "l2 = []\n",
    "\n",
    "# Convert spacing vector to antenna element positions\n",
    "def compute_positions(spacings):\n",
    "    positions = [0]\n",
    "    for s in spacings:\n",
    "        positions.append(positions[-1] + s)\n",
    "    return [(x, 0) for x in positions]  # linear Yagi array along x-axis\n",
    "\n",
    "# Objective function to minimize (negated gain)\n",
    "def objective(spacings):\n",
    "    try:\n",
    "        l3 = compute_positions(spacings)\n",
    "        return -max_directivity_db(k, l1, l2, l3)\n",
    "    except Exception as e:\n",
    "        print(\"Error:\", e)\n",
    "        return 1e6  # penalize failures\n",
    "\n",
    "# Initial guess and spacing bounds\n",
    "initial_guess = [0.31] * 5\n",
    "bounds = [(0.1, 0.6)] * 5  # spacing bounds in wavelengths\n",
    "\n",
    "# Run optimization\n",
    "result = minimize(objective, initial_guess, bounds=bounds, method='L-BFGS-B')\n",
    "\n",
    "# Extract results\n",
    "opt_spacings = result.x\n",
    "opt_l3 = compute_positions(opt_spacings)\n",
    "opt_gain_db = -result.fun\n",
    "\n",
    "# Report\n",
    "print(\"✅ Optimization Complete\")\n",
    "print(\"Optimal Spacings (λ):\", np.round(opt_spacings, 4))\n",
    "print(\"Maximum Directivity (dB):\", round(opt_gain_db, 2))\n"
   ]
  },
  {
   "cell_type": "code",
   "execution_count": null,
   "id": "bc72ea63",
   "metadata": {},
   "outputs": [],
   "source": []
  },
  {
   "cell_type": "code",
   "execution_count": null,
   "id": "bcda322f",
   "metadata": {},
   "outputs": [],
   "source": []
  }
 ],
 "metadata": {
  "kernelspec": {
   "display_name": "Python 3 (ipykernel)",
   "language": "python",
   "name": "python3"
  },
  "language_info": {
   "codemirror_mode": {
    "name": "ipython",
    "version": 3
   },
   "file_extension": ".py",
   "mimetype": "text/x-python",
   "name": "python",
   "nbconvert_exporter": "python",
   "pygments_lexer": "ipython3",
   "version": "3.11.4"
  }
 },
 "nbformat": 4,
 "nbformat_minor": 5
}
