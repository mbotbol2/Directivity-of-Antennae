{
 "cells": [
  {
   "cell_type": "code",
   "execution_count": 1,
   "id": "be9574e0",
   "metadata": {},
   "outputs": [],
   "source": [
    "%matplotlib inline   \n",
    "\n",
    "# load the libraries\n",
    "import matplotlib.pyplot as plt # 2D plotting library\n",
    "import numpy as np              # package for scientific computing  \n",
    "\n",
    "import math              # package for mathematics (pi, arctan, sqrt, factorial ...)\n",
    "\n",
    "import cmath \n",
    "from sympy import symbols, I, exp, diff, lambdify\n",
    "import numpy as np\n"
   ]
  },
  {
   "cell_type": "code",
   "execution_count": 28,
   "id": "185f16db",
   "metadata": {},
   "outputs": [],
   "source": [
    "\"All lengths given in units of the wavelength lambda\"\n",
    "l_1 = [0.6, 0.5, 0.45, 0.45, 0.45] #antenna lengths. \n",
    "l_2 =[0.001, 0.001, 0.001, 0.001, 0.001] #antenna radii\n",
    "l_3 = [(0,0), (0.5,0), (1,0), (1.5,0), (2,0)] #antenna position\n",
    "\n",
    "V = [0, 1, 0, 0, 0] #voltage in each antenna\n",
    "\n",
    "def G(p, q, k, z, z_1, L_1, L_2, L_3):\n",
    "   \n",
    "    \"\"\"\n",
    "\n",
    "    Parameters\n",
    "    ----------\n",
    "    p, q: antenna indexes\n",
    "    k : wavenumber\n",
    "    z : \n",
    "    z_1 : z'\n",
    "\n",
    "    Returns so called impedance kernel\n",
    "    -------\n",
    "    \"\"\"\n",
    "\n",
    "    #print(L_2)\n",
    "    if p == q:\n",
    "        d = L_2[p]\n",
    "    else:\n",
    "        d = math.sqrt((L_3[p][0] - L_3[q][0])**2+ (L_3[p][1] - L_3[q][1])**2)\n",
    "    #print(d)\n",
    "    R = math.sqrt((z - z_1)**2 + d**2)\n",
    "    #print(R)\n",
    "    return (cmath.exp(complex(0, -k*R)))/R\n",
    "\n",
    "def second_derivative_G(p, q, k, z, z_1, L_1, L_2, L_3):\n",
    "    if p == q:\n",
    "        d = L_2[p]\n",
    "    else:\n",
    "        dx = L_3[p][0] - L_3[q][0]\n",
    "        dy = L_3[p][1] - L_3[q][1]\n",
    "        d = math.sqrt(dx**2 + dy**2)\n",
    "\n",
    "    delta_z = z - z_1\n",
    "    R = math.sqrt(delta_z**2 + d**2)\n",
    "\n",
    "    if R == 0:\n",
    "        return 0  # Avoid division by zero (optional: add singularity handling)\n",
    "\n",
    "    exp_term = cmath.exp(complex(0, -k * R))\n",
    "    term1 = (-1j * k) / R**3\n",
    "    term2 = 3 * (1j * k * R + 1) / R**5\n",
    "    term3 = -k**2 * delta_z**2 / R**3\n",
    "\n",
    "    return (term1 + term2 + term3) * exp_term\n",
    "\n",
    "def Z(p, q, k):\n",
    "    \"\"\"\n",
    "    Compute the coefficient of entry (p, q) of the impedance matrix\n",
    "\n",
    "    \"\"\"\n",
    "    global L_1, L_2, L_3\n",
    "    wavelength = 2*math.pi/k\n",
    "    L_1 = [l*wavelength for l in l_1]\n",
    "    L_2 = [l*wavelength for l in l_2]\n",
    "    L_3 = [(x*wavelength, y*wavelength) for (x, y) in l_3]\n",
    "    h_p = L_1[p]/2\n",
    "    h_q = L_1[q]/2\n",
    "    N = 50     # Even Number\n",
    "    Z = 0\n",
    "    eta = 376.7 #sqrt(mu_0/epsilon_0)\n",
    "    \n",
    "    for n in range(-N//2, N//2+1):\n",
    "        z = (n*h_p)/N\n",
    "        dz = h_p/N\n",
    "        for m in range(-N//2, N//2+1):\n",
    "              z_1 = (m*h_q)/N\n",
    "              dz_1 = h_q/N\n",
    "              g = G(p, q, k, z, z_1, L_1, L_2, L_3)\n",
    "              g_sec = second_derivative_G(p, q, k, z, z_1, L_1, L_2, L_3)\n",
    "              sinp = math.sin(k*(h_p - abs(z))))/(math.sin(k*h_p)))*(math.sin(k*(h_q- abs(z_1)))/(math.sin(k*h_q)\n",
    "              sinq = math.sin(k*(h_q- abs(z_1)))/(math.sin(k*h_q))\n",
    "              Z += complex(0, eta/(4*math.pi*k))*sinp*sinq*(g*k**2+g_sec)*dz*dz_1\n",
    "              \n",
    "    return Z   "
   ]
  },
  {
   "cell_type": "code",
   "execution_count": 29,
   "id": "8d6eb627",
   "metadata": {},
   "outputs": [],
   "source": [
    "def matrixZ(k):\n",
    "    n = len(l_1)\n",
    "    matZ = np.matrix([[Z(p,q,k) for q in range(0,n)] for p in range(0,n)])\n",
    "    return matZ"
   ]
  },
  {
   "cell_type": "code",
   "execution_count": 30,
   "id": "83467c32",
   "metadata": {},
   "outputs": [],
   "source": [
    "def input_current(V,Z):\n",
    "    I = np.linalg.solve(Z, V)\n",
    "    return I  "
   ]
  },
  {
   "cell_type": "code",
   "execution_count": 31,
   "id": "b2bc0c1f",
   "metadata": {},
   "outputs": [
    {
     "data": {
      "text/plain": [
       "matrix([[ 2.70466022e+07+5.98254409e+12j,\n",
       "          1.13156953e+01-3.18210091e+01j,\n",
       "          3.22609769e-02+1.13597677e+01j,\n",
       "         -1.88594088e-01-7.53681333e+00j,\n",
       "          1.30602463e-01+5.65913899e+00j],\n",
       "        [ 1.13156953e+01-3.18210091e+01j,\n",
       "          1.53960025e+07+3.38006582e+12j,\n",
       "          7.90714555e+00-2.09245967e+01j,\n",
       "         -4.05344989e-02+8.54148571e+00j,\n",
       "         -1.12486693e-01-5.65540790e+00j],\n",
       "        [ 3.22609769e-02+1.13597677e+01j,\n",
       "          7.90714555e+00-2.09245967e+01j,\n",
       "          1.16289276e+07+2.53710167e+12j,\n",
       "          6.98806280e+00-1.81673468e+01j,\n",
       "         -5.78724908e-02+7.39463716e+00j],\n",
       "        [-1.88594088e-01-7.53681333e+00j,\n",
       "         -4.05344989e-02+8.54148571e+00j,\n",
       "          6.98806280e+00-1.81673468e+01j,\n",
       "          1.16289276e+07+2.53710167e+12j,\n",
       "          6.98806280e+00-1.81673468e+01j],\n",
       "        [ 1.30602463e-01+5.65913899e+00j,\n",
       "         -1.12486693e-01-5.65540790e+00j,\n",
       "         -5.78724908e-02+7.39463716e+00j,\n",
       "          6.98806280e+00-1.81673468e+01j,\n",
       "          1.16289276e+07+2.53710167e+12j]])"
      ]
     },
     "execution_count": 31,
     "metadata": {},
     "output_type": "execute_result"
    }
   ],
   "source": [
    "matrixZ(3)"
   ]
  },
  {
   "cell_type": "code",
   "execution_count": 32,
   "id": "ab878928",
   "metadata": {},
   "outputs": [
    {
     "data": {
      "text/plain": [
       "matrix([[ 1.47948241e+09+6.64727140e+15j,\n",
       "          2.24437367e+04-8.77679771e+03j,\n",
       "         -1.30610778e+03+2.68669076e+02j,\n",
       "          2.59218338e+02-4.20022292e+01j,\n",
       "         -8.15510989e+01+1.38781422e+01j],\n",
       "        [ 2.24437367e+04-8.77679771e+03j,\n",
       "          8.50655063e+08+3.75562880e+15j,\n",
       "          1.49843779e+04-5.59247889e+03j,\n",
       "         -9.84643224e+02+1.95160884e+02j,\n",
       "          1.94751953e+02-3.05491699e+01j],\n",
       "        [-1.30610778e+03+2.68669076e+02j,\n",
       "          1.49843779e+04-5.59247889e+03j,\n",
       "          6.47089884e+08+2.81900194e+15j,\n",
       "          1.30703852e+04-4.80842134e+03j,\n",
       "         -8.53345806e+02+1.66541836e+02j],\n",
       "        [ 2.59218338e+02-4.20022292e+01j,\n",
       "         -9.84643224e+02+1.95160884e+02j,\n",
       "          1.30703852e+04-4.80842134e+03j,\n",
       "          6.47089884e+08+2.81900194e+15j,\n",
       "          1.30703852e+04-4.80842134e+03j],\n",
       "        [-8.15510989e+01+1.38781422e+01j,\n",
       "          1.94751953e+02-3.05491699e+01j,\n",
       "         -8.53345806e+02+1.66541836e+02j,\n",
       "          1.30703852e+04-4.80842134e+03j,\n",
       "          6.47089884e+08+2.81900194e+15j]])"
      ]
     },
     "execution_count": 32,
     "metadata": {},
     "output_type": "execute_result"
    }
   ],
   "source": [
    "matrixZ(100)"
   ]
  },
  {
   "cell_type": "code",
   "execution_count": 35,
   "id": "eafba85b",
   "metadata": {},
   "outputs": [
    {
     "data": {
      "text/plain": [
       "array([ 8.99019620e-28-3.51568145e-28j,  6.03098391e-23-2.66266996e-16j,\n",
       "        1.41533992e-27-5.28233314e-28j, -9.30038441e-29+1.84337520e-29j,\n",
       "        1.83951704e-29-2.88549359e-30j])"
      ]
     },
     "execution_count": 35,
     "metadata": {},
     "output_type": "execute_result"
    }
   ],
   "source": [
    "V = [0,1,0,0,0]\n",
    "input_current(V,matrixZ(100))"
   ]
  },
  {
   "cell_type": "code",
   "execution_count": 34,
   "id": "f692054d",
   "metadata": {},
   "outputs": [
    {
     "ename": "NameError",
     "evalue": "name 'k' is not defined",
     "output_type": "error",
     "traceback": [
      "\u001b[0;31m---------------------------------------------------------------------------\u001b[0m",
      "\u001b[0;31mNameError\u001b[0m                                 Traceback (most recent call last)",
      "Cell \u001b[0;32mIn[34], line 1\u001b[0m\n\u001b[0;32m----> 1\u001b[0m ((math\u001b[38;5;241m.\u001b[39msin(k\u001b[38;5;241m*\u001b[39m(h_q\u001b[38;5;241m-\u001b[39m \u001b[38;5;28mabs\u001b[39m(z_1)))\u001b[38;5;241m/\u001b[39m(math\u001b[38;5;241m.\u001b[39msin(k\u001b[38;5;241m*\u001b[39mh_q))))\n",
      "\u001b[0;31mNameError\u001b[0m: name 'k' is not defined"
     ]
    }
   ],
   "source": [
    "((math.sin(k*(h_q- abs(z_1)))/(math.sin(k*h_q))))"
   ]
  },
  {
   "cell_type": "code",
   "execution_count": null,
   "id": "754d96d8",
   "metadata": {},
   "outputs": [],
   "source": []
  }
 ],
 "metadata": {
  "kernelspec": {
   "display_name": "Python 3 (ipykernel)",
   "language": "python",
   "name": "python3"
  },
  "language_info": {
   "codemirror_mode": {
    "name": "ipython",
    "version": 3
   },
   "file_extension": ".py",
   "mimetype": "text/x-python",
   "name": "python",
   "nbconvert_exporter": "python",
   "pygments_lexer": "ipython3",
   "version": "3.11.3"
  }
 },
 "nbformat": 4,
 "nbformat_minor": 5
}
