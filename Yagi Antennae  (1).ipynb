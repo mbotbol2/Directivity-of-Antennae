{
 "cells": [
  {
   "cell_type": "code",
   "execution_count": 11,
   "id": "be9574e0",
   "metadata": {},
   "outputs": [],
   "source": [
    "%matplotlib inline   \n",
    "\n",
    "# load the libraries\n",
    "import matplotlib.pyplot as plt # 2D plotting library\n",
    "import numpy as np              # package for scientific computing  \n",
    "\n",
    "import math              # package for mathematics (pi, arctan, sqrt, factorial ...)\n",
    "\n",
    "import cmath \n",
    "from sympy import symbols, I, exp, diff, lambdify\n",
    "import numpy as np\n"
   ]
  },
  {
   "cell_type": "code",
   "execution_count": 7,
   "id": "185f16db",
   "metadata": {},
   "outputs": [],
   "source": [
    "\"All lengths given in units of the wavelength lambda\"\n",
    "l_1 = [0.510,0.490,0.430,0.430,0.430] #antenna lengths. \n",
    "l_2 =[0.003, 0.003, 0.003, 0.003, 0.003] #antenna radii\n",
    "l_3 = [(0,0), (0.5,0), (1,0), (1.5,0), (2,0)] #antenna position\n",
    "\n",
    "V = [0, 1, 0, 0, 0] #voltage in each antenna\n",
    "\n",
    "def G(p, q, k, z, z_1, L_1, L_2, L_3):\n",
    "   \n",
    "    \"\"\"\n",
    "\n",
    "    Parameters\n",
    "    ----------\n",
    "    p, q: antenna indexes\n",
    "    k : wavenumber\n",
    "    z : \n",
    "    z_1 : z'\n",
    "\n",
    "    Returns so called impedance kernel\n",
    "    -------\n",
    "    \"\"\"\n",
    "\n",
    "    #print(L_2)\n",
    "    if p == q:\n",
    "        d = L_2[p]\n",
    "    else:\n",
    "        d = math.sqrt((L_3[p][0] - L_3[q][0])**2+ (L_3[p][1] - L_3[q][1])**2)\n",
    "    #print(d)\n",
    "    R = math.sqrt((z - z_1)**2 + d**2)\n",
    "    if R < 1e-6:  # threshold for small distances\n",
    "        return 0 \n",
    "    #print(R)\n",
    "    return (cmath.exp(-k * R*1j))/R\n",
    "\n",
    "def second_derivative_G(p, q, k, z, z_1, L_1, L_2, L_3):\n",
    "    if p == q:\n",
    "        d = L_2[p]\n",
    "    else:\n",
    "        dx = L_3[p][0] - L_3[q][0]\n",
    "        dy = L_3[p][1] - L_3[q][1]\n",
    "        d = math.sqrt(dx**2 + dy**2)\n",
    "    \n",
    "    delta_z = z - z_1\n",
    "    R = math.sqrt(delta_z**2 + d**2)\n",
    "    \n",
    "    if R < 1e-10:  # Use a smaller threshold\n",
    "        return 0\n",
    "    \n",
    "    exp_term = cmath.exp(-1j * k * R)\n",
    "    \n",
    "    # Correction des termes:\n",
    "    # Terme constant (qui ne dépend pas de delta_z²)\n",
    "    constant_term = (1/R**3) * exp_term\n",
    "    \n",
    "    # Terme avec delta_z²\n",
    "    delta_z_squared_term = ((3*delta_z**2/R**5) * exp_term)\n",
    "    \n",
    "    # Terme avec jk\n",
    "    jk_term = (-1j*k/R**2 - 3j*k*delta_z**2/R**4) * exp_term\n",
    "    \n",
    "    # Terme avec k²\n",
    "    k_squared_term = (-k**2*delta_z**2/R**3) * exp_term\n",
    "    \n",
    "    return constant_term + delta_z_squared_term + jk_term + k_squared_term\n",
    "\n",
    "def Z(p, q, k):\n",
    "    \"\"\"\n",
    "    Compute the coefficient of entry (p, q) of the impedance matrix\n",
    "\n",
    "    \"\"\"\n",
    "    global L_1, L_2, L_3\n",
    "    wavelength = 2*math.pi/k\n",
    "    L_1 = [l*wavelength for l in l_1]\n",
    "    L_2 = [l*wavelength for l in l_2]\n",
    "    L_3 = [(x*wavelength, y*wavelength) for (x, y) in l_3]\n",
    "    h_p = L_1[p]/2\n",
    "    h_q = L_1[q]/2\n",
    "    if p == q:\n",
    "        N = 300 \n",
    "    else:\n",
    "        N = 200\n",
    "    Z = 0\n",
    "    eta = 376.7 #sqrt(mu_0/epsilon_0)\n",
    "    \n",
    "    for n in range(-N//2, N//2+1):\n",
    "        z = (n*2*h_p)/N\n",
    "        delta = 0.002\n",
    "        lower = math.floor((z-delta)*N/(2*h_p))\n",
    "        upper = math.ceil((z+delta)*N/(2*h_p))\n",
    "        intervals = [[-N//2, lower], [lower, upper+1], [upper+1, N//2+1]]\n",
    "        weight = [50, 500, 50]\n",
    "        dz = 2*h_p/N\n",
    "        for m in range(intervals[0][0], intervals[0][1]): #first interval\n",
    "              M0 = weight[0]\n",
    "              z_1 = (m*2*h_q)/M0\n",
    "              dz_1 = 2*h_q/M0\n",
    "              g = G(p, q, k, z, z_1, L_1, L_2, L_3)\n",
    "              g_sec = second_derivative_G(p, q, k, z, z_1, L_1, L_2, L_3)\n",
    "              sinp = math.sin(k*(h_p - abs(z)))/(math.sin(k*h_p))\n",
    "              sinq = math.sin(k*(h_q- abs(z_1)))/(math.sin(k*h_q))\n",
    "              Z += complex(0, eta/(4*math.pi*k))*sinp*sinq*(g*k**2+g_sec)*dz*dz_1\n",
    "                \n",
    "        for m in range(intervals[1][0], intervals[1][1]): #second interval\n",
    "              M1 = weight[1]\n",
    "              z_1 = (m*2*h_q)/M1\n",
    "              dz_1 = 2*h_q/M1\n",
    "              g = G(p, q, k, z, z_1, L_1, L_2, L_3)\n",
    "              g_sec = second_derivative_G(p, q, k, z, z_1, L_1, L_2, L_3)\n",
    "              sinp = math.sin(k*(h_p - abs(z)))/(math.sin(k*h_p))\n",
    "              sinq = math.sin(k*(h_q- abs(z_1)))/(math.sin(k*h_q))\n",
    "              Z += complex(0, eta/(4*math.pi*k))*sinp*sinq*(g*k**2+g_sec)*dz*dz_1\n",
    "                \n",
    "        for m in range(intervals[2][0], intervals[2][1]): #third interval\n",
    "              M2 = weight[2]\n",
    "              z_1 = (m*2*h_q)/M2\n",
    "              dz_1 = 2*h_q/M2\n",
    "              g = G(p, q, k, z, z_1, L_1, L_2, L_3)\n",
    "              g_sec = second_derivative_G(p, q, k, z, z_1, L_1, L_2, L_3)\n",
    "              sinp = math.sin(k*(h_p - abs(z)))/(math.sin(k*h_p))\n",
    "              sinq = math.sin(k*(h_q- abs(z_1)))/(math.sin(k*h_q))\n",
    "              Z += complex(0, eta/(4*math.pi*k))*sinp*sinq*(g*k**2+g_sec)*dz*dz_1\n",
    "              \n",
    "    return Z   "
   ]
  },
  {
   "cell_type": "code",
   "execution_count": 212,
   "id": "8d6eb627",
   "metadata": {},
   "outputs": [],
   "source": [
    "def matrixZ(k):\n",
    "    n = len(l_1) #nb of antennas\n",
    "    #matZ = np.matrix([[Z(p,q,k) for q in range(0,n)] for p in range(0,n)])\n",
    "    matZ= np.zeros((n, n), dtype=complex)\n",
    "    for p in range(0, n):\n",
    "        for q in range(0, p+1):\n",
    "            Z_pq =  Z(p,q,k)\n",
    "            if p == q:\n",
    "                matZ[p][q] = Z_pq\n",
    "            else:\n",
    "                matZ[p][q] = Z_pq\n",
    "                matZ[q][p] = Z_pq\n",
    "    return matZ"
   ]
  },
  {
   "cell_type": "code",
   "execution_count": 15,
   "id": "83467c32",
   "metadata": {},
   "outputs": [],
   "source": [
    "def input_current(V,Z):\n",
    "    I = np.linalg.solve(Z, V)\n",
    "    return I  "
   ]
  },
  {
   "cell_type": "code",
   "execution_count": 214,
   "id": "ab878928",
   "metadata": {},
   "outputs": [
    {
     "data": {
      "text/plain": [
       "array([[ 3.99471070e+04+5.53954312e+05j,  2.16428012e+01-4.07287440e+01j,\n",
       "        -1.08832069e+01-2.15133069e+00j,  2.23962917e+00+4.50752134e+00j,\n",
       "         4.76674088e-01-2.95201538e+00j],\n",
       "       [ 2.16428012e+01-4.07287440e+01j,  3.68451880e+04+5.11506376e+05j,\n",
       "         2.00315067e+01-3.18477124e+01j, -1.07988089e+01-2.51890408e+00j,\n",
       "         2.97679769e+00+4.62651361e+00j],\n",
       "       [-1.08832069e+01-2.15133069e+00j,  2.00315067e+01-3.18477124e+01j,\n",
       "         2.91204076e+04+4.06556329e+05j,  2.21413335e+01-2.40095632e+01j,\n",
       "        -1.22862862e+01-3.89531406e+00j],\n",
       "       [ 2.23962917e+00+4.50752134e+00j, -1.07988089e+01-2.51890408e+00j,\n",
       "         2.21413335e+01-2.40095632e+01j,  2.91204076e+04+4.06556329e+05j,\n",
       "         2.21413335e+01-2.40095632e+01j],\n",
       "       [ 4.76674088e-01-2.95201538e+00j,  2.97679769e+00+4.62651361e+00j,\n",
       "        -1.22862862e+01-3.89531406e+00j,  2.21413335e+01-2.40095632e+01j,\n",
       "         2.91204076e+04+4.06556329e+05j]])"
      ]
     },
     "execution_count": 214,
     "metadata": {},
     "output_type": "execute_result"
    }
   ],
   "source": [
    "matrixZ(10)"
   ]
  },
  {
   "cell_type": "code",
   "execution_count": 210,
   "id": "eafba85b",
   "metadata": {},
   "outputs": [
    {
     "data": {
      "text/plain": [
       "array([ 8.70393207e-11-1.19523256e-10j,  1.32948524e-07-1.85532240e-06j,\n",
       "        1.03735408e-10-1.22772933e-10j, -4.40332418e-11-1.69357958e-11j,\n",
       "        9.76607068e-12+2.11698511e-11j])"
      ]
     },
     "execution_count": 210,
     "metadata": {},
     "output_type": "execute_result"
    }
   ],
   "source": [
    "V = [0,1,0,0,0]\n",
    "input_current(V,matrixZ(10))"
   ]
  },
  {
   "cell_type": "code",
   "execution_count": 188,
   "id": "754d96d8",
   "metadata": {},
   "outputs": [],
   "source": [
    "import numpy as np\n",
    "import math\n",
    "import cmath\n",
    "from scipy.special import roots_legendre\n",
    "\n",
    "def Z_Gauss(p, q, k):\n",
    "    \"\"\"\n",
    "    Compute the coefficient of entry (p, q) of the impedance matrix using Gauss-Legendre quadrature\n",
    "    with focus on regions where z is close to z_1.\n",
    "    \"\"\"\n",
    "    global L_1, L_2, L_3\n",
    "    wavelength = 2 * math.pi / k\n",
    "    L_1 = [l * wavelength for l in l_1]\n",
    "    L_2 = [l * wavelength for l in l_2]\n",
    "    L_3 = [(x * wavelength, y * wavelength) for (x, y) in l_3]\n",
    "    \n",
    "    h_p = L_1[p] / 2\n",
    "    h_q = L_1[q] / 2\n",
    "    eta = 376.7  # impedance of free space\n",
    "    \n",
    "    # Define a small region around the singularity\n",
    "    delta = 0.01 * h_q if p == q else 0.05 * h_q\n",
    "    \n",
    "    # Define just three regions for z\n",
    "    z_regions = [(-h_q, -delta), (-delta, delta), (delta, h_q)]\n",
    "    N_z = 150  # Points for z integration\n",
    "    \n",
    "    Z = 0\n",
    "    for z_region in z_regions:\n",
    "        a_z, b_z = z_region\n",
    "        # Calculate unique nodes and weights for this z interval\n",
    "        nodes_z, weights_z = roots_legendre(N_z)\n",
    "        nodes_z_mapped = 0.5 * (nodes_z + 1) * (b_z - a_z) + a_z\n",
    "        weights_z_mapped = 0.5 * weights_z * (b_z - a_z)\n",
    "        \n",
    "        for i in range(N_z):\n",
    "            z = nodes_z_mapped[i]\n",
    "            dz = weights_z_mapped[i]\n",
    "            \n",
    "            # For each z, define regions for z_1 centered around the current z value\n",
    "            # This focuses integration points where they're most needed: when z ≈ z_1\n",
    "            z1_regions = [(max(-h_q, z-delta), min(z+delta, h_q))]  # Region where z ≈ z_1\n",
    "            \n",
    "            # Add regions before and after if they exist\n",
    "            if max(-h_q, z-delta) > -h_q:\n",
    "                z1_regions.insert(0, (-h_q, max(-h_q, z-delta)))\n",
    "            if min(z+delta, h_q) < h_q:\n",
    "                z1_regions.append((min(z+delta, h_q), h_q))\n",
    "            \n",
    "            # Use more points for region where z ≈ z_1\n",
    "            N_z1_close = 200  # More points where z is close to z_1\n",
    "            N_z1_far = 100    # Fewer points elsewhere\n",
    "            \n",
    "            for idx, z1_region in enumerate(z1_regions):\n",
    "                a_z1, b_z1 = z1_region\n",
    "                # Skip empty regions\n",
    "                if a_z1 >= b_z1:\n",
    "                    continue\n",
    "                \n",
    "                # Use more points when z ≈ z_1\n",
    "                N_z1 = N_z1_close if idx == 0 else N_z1_far\n",
    "                \n",
    "                # Calculate unique nodes and weights for this z_1 interval\n",
    "                nodes_z1, weights_z1 = roots_legendre(N_z1)\n",
    "                nodes_z1_mapped = 0.5 * (nodes_z1 + 1) * (b_z1 - a_z1) + a_z1\n",
    "                weights_z1_mapped = 0.5 * weights_z1 * (b_z1 - a_z1)\n",
    "                \n",
    "                for j in range(N_z1):\n",
    "                    z_1 = nodes_z1_mapped[j]\n",
    "                    dz_1 = weights_z1_mapped[j]\n",
    "                    \n",
    "                    # Calculate Green's function and its second derivative\n",
    "                    g = G(p, q, k, z, z_1, L_1, L_2, L_3)\n",
    "                    g_sec = second_derivative_G_corrected(p, q, k, z, z_1, L_1, L_2, L_3)\n",
    "                    \n",
    "                    # Calculate sine terms\n",
    "                    sinp = np.sin(k * (h_p - abs(z))) / np.sin(k * h_p)\n",
    "                    sinq = np.sin(k * (h_q - abs(z_1))) / np.sin(k * h_q)\n",
    "                    \n",
    "                    # Calculate contribution to impedance\n",
    "                    Z += complex(0, eta / (4 * np.pi * k)) * sinp * sinq * (g * k**2 + g_sec) * dz * dz_1\n",
    "    \n",
    "    return Z"
   ]
  },
  {
   "cell_type": "code",
   "execution_count": 189,
   "id": "255f45b1",
   "metadata": {},
   "outputs": [
    {
     "data": {
      "text/plain": [
       "(28852.314620864672+400972.01351711445j)"
      ]
     },
     "execution_count": 189,
     "metadata": {},
     "output_type": "execute_result"
    }
   ],
   "source": [
    "Z_Gauss(2, 2, 100)"
   ]
  },
  {
   "cell_type": "code",
   "execution_count": 190,
   "id": "91a2e10e",
   "metadata": {},
   "outputs": [],
   "source": [
    "def matrixZ_Gauss(k):\n",
    "    n = len(l_1) #nb of antennas\n",
    "    matZ = np.matrix([[Z_Gauss(p,q,k) for q in range(0,n)] for p in range(0,n)])\n",
    "    return matZ"
   ]
  },
  {
   "cell_type": "code",
   "execution_count": 191,
   "id": "35b03760",
   "metadata": {},
   "outputs": [
    {
     "ename": "KeyboardInterrupt",
     "evalue": "",
     "output_type": "error",
     "traceback": [
      "\u001b[1;31m---------------------------------------------------------------------------\u001b[0m",
      "\u001b[1;31mKeyboardInterrupt\u001b[0m                         Traceback (most recent call last)",
      "Cell \u001b[1;32mIn[191], line 1\u001b[0m\n\u001b[1;32m----> 1\u001b[0m matrixZ_Gauss(\u001b[38;5;241m100\u001b[39m)\n",
      "Cell \u001b[1;32mIn[190], line 3\u001b[0m, in \u001b[0;36mmatrixZ_Gauss\u001b[1;34m(k)\u001b[0m\n\u001b[0;32m      1\u001b[0m \u001b[38;5;28;01mdef\u001b[39;00m \u001b[38;5;21mmatrixZ_Gauss\u001b[39m(k):\n\u001b[0;32m      2\u001b[0m     n \u001b[38;5;241m=\u001b[39m \u001b[38;5;28mlen\u001b[39m(l_1) \u001b[38;5;66;03m#nb of antennas\u001b[39;00m\n\u001b[1;32m----> 3\u001b[0m     matZ \u001b[38;5;241m=\u001b[39m np\u001b[38;5;241m.\u001b[39mmatrix([[Z_Gauss(p,q,k) \u001b[38;5;28;01mfor\u001b[39;00m q \u001b[38;5;129;01min\u001b[39;00m \u001b[38;5;28mrange\u001b[39m(\u001b[38;5;241m0\u001b[39m,n)] \u001b[38;5;28;01mfor\u001b[39;00m p \u001b[38;5;129;01min\u001b[39;00m \u001b[38;5;28mrange\u001b[39m(\u001b[38;5;241m0\u001b[39m,n)])\n\u001b[0;32m      4\u001b[0m     \u001b[38;5;28;01mreturn\u001b[39;00m matZ\n",
      "Cell \u001b[1;32mIn[190], line 3\u001b[0m, in \u001b[0;36m<listcomp>\u001b[1;34m(.0)\u001b[0m\n\u001b[0;32m      1\u001b[0m \u001b[38;5;28;01mdef\u001b[39;00m \u001b[38;5;21mmatrixZ_Gauss\u001b[39m(k):\n\u001b[0;32m      2\u001b[0m     n \u001b[38;5;241m=\u001b[39m \u001b[38;5;28mlen\u001b[39m(l_1) \u001b[38;5;66;03m#nb of antennas\u001b[39;00m\n\u001b[1;32m----> 3\u001b[0m     matZ \u001b[38;5;241m=\u001b[39m np\u001b[38;5;241m.\u001b[39mmatrix([[Z_Gauss(p,q,k) \u001b[38;5;28;01mfor\u001b[39;00m q \u001b[38;5;129;01min\u001b[39;00m \u001b[38;5;28mrange\u001b[39m(\u001b[38;5;241m0\u001b[39m,n)] \u001b[38;5;28;01mfor\u001b[39;00m p \u001b[38;5;129;01min\u001b[39;00m \u001b[38;5;28mrange\u001b[39m(\u001b[38;5;241m0\u001b[39m,n)])\n\u001b[0;32m      4\u001b[0m     \u001b[38;5;28;01mreturn\u001b[39;00m matZ\n",
      "Cell \u001b[1;32mIn[190], line 3\u001b[0m, in \u001b[0;36m<listcomp>\u001b[1;34m(.0)\u001b[0m\n\u001b[0;32m      1\u001b[0m \u001b[38;5;28;01mdef\u001b[39;00m \u001b[38;5;21mmatrixZ_Gauss\u001b[39m(k):\n\u001b[0;32m      2\u001b[0m     n \u001b[38;5;241m=\u001b[39m \u001b[38;5;28mlen\u001b[39m(l_1) \u001b[38;5;66;03m#nb of antennas\u001b[39;00m\n\u001b[1;32m----> 3\u001b[0m     matZ \u001b[38;5;241m=\u001b[39m np\u001b[38;5;241m.\u001b[39mmatrix([[Z_Gauss(p,q,k) \u001b[38;5;28;01mfor\u001b[39;00m q \u001b[38;5;129;01min\u001b[39;00m \u001b[38;5;28mrange\u001b[39m(\u001b[38;5;241m0\u001b[39m,n)] \u001b[38;5;28;01mfor\u001b[39;00m p \u001b[38;5;129;01min\u001b[39;00m \u001b[38;5;28mrange\u001b[39m(\u001b[38;5;241m0\u001b[39m,n)])\n\u001b[0;32m      4\u001b[0m     \u001b[38;5;28;01mreturn\u001b[39;00m matZ\n",
      "Cell \u001b[1;32mIn[188], line 64\u001b[0m, in \u001b[0;36mZ_Gauss\u001b[1;34m(p, q, k)\u001b[0m\n\u001b[0;32m     61\u001b[0m N_z1 \u001b[38;5;241m=\u001b[39m N_z1_close \u001b[38;5;28;01mif\u001b[39;00m idx \u001b[38;5;241m==\u001b[39m \u001b[38;5;241m0\u001b[39m \u001b[38;5;28;01melse\u001b[39;00m N_z1_far\n\u001b[0;32m     63\u001b[0m \u001b[38;5;66;03m# Calculate unique nodes and weights for this z_1 interval\u001b[39;00m\n\u001b[1;32m---> 64\u001b[0m nodes_z1, weights_z1 \u001b[38;5;241m=\u001b[39m roots_legendre(N_z1)\n\u001b[0;32m     65\u001b[0m nodes_z1_mapped \u001b[38;5;241m=\u001b[39m \u001b[38;5;241m0.5\u001b[39m \u001b[38;5;241m*\u001b[39m (nodes_z1 \u001b[38;5;241m+\u001b[39m \u001b[38;5;241m1\u001b[39m) \u001b[38;5;241m*\u001b[39m (b_z1 \u001b[38;5;241m-\u001b[39m a_z1) \u001b[38;5;241m+\u001b[39m a_z1\n\u001b[0;32m     66\u001b[0m weights_z1_mapped \u001b[38;5;241m=\u001b[39m \u001b[38;5;241m0.5\u001b[39m \u001b[38;5;241m*\u001b[39m weights_z1 \u001b[38;5;241m*\u001b[39m (b_z1 \u001b[38;5;241m-\u001b[39m a_z1)\n",
      "File \u001b[1;32m~\\anaconda3\\Lib\\site-packages\\scipy\\special\\_orthogonal.py:2405\u001b[0m, in \u001b[0;36mroots_legendre\u001b[1;34m(n, mu)\u001b[0m\n\u001b[0;32m   2402\u001b[0m f \u001b[38;5;241m=\u001b[39m _ufuncs\u001b[38;5;241m.\u001b[39meval_legendre\n\u001b[0;32m   2403\u001b[0m df \u001b[38;5;241m=\u001b[39m \u001b[38;5;28;01mlambda\u001b[39;00m n, x: (\u001b[38;5;241m-\u001b[39mn\u001b[38;5;241m*\u001b[39mx\u001b[38;5;241m*\u001b[39m_ufuncs\u001b[38;5;241m.\u001b[39meval_legendre(n, x)\n\u001b[0;32m   2404\u001b[0m                    \u001b[38;5;241m+\u001b[39m n\u001b[38;5;241m*\u001b[39m_ufuncs\u001b[38;5;241m.\u001b[39meval_legendre(n\u001b[38;5;241m-\u001b[39m\u001b[38;5;241m1\u001b[39m, x))\u001b[38;5;241m/\u001b[39m(\u001b[38;5;241m1\u001b[39m\u001b[38;5;241m-\u001b[39mx\u001b[38;5;241m*\u001b[39m\u001b[38;5;241m*\u001b[39m\u001b[38;5;241m2\u001b[39m)\n\u001b[1;32m-> 2405\u001b[0m \u001b[38;5;28;01mreturn\u001b[39;00m _gen_roots_and_weights(m, mu0, an_func, bn_func, f, df, \u001b[38;5;28;01mTrue\u001b[39;00m, mu)\n",
      "File \u001b[1;32m~\\anaconda3\\Lib\\site-packages\\scipy\\special\\_orthogonal.py:178\u001b[0m, in \u001b[0;36m_gen_roots_and_weights\u001b[1;34m(n, mu0, an_func, bn_func, f, df, symmetrize, mu)\u001b[0m\n\u001b[0;32m    176\u001b[0m c[\u001b[38;5;241m0\u001b[39m,\u001b[38;5;241m1\u001b[39m:] \u001b[38;5;241m=\u001b[39m bn_func(k[\u001b[38;5;241m1\u001b[39m:])\n\u001b[0;32m    177\u001b[0m c[\u001b[38;5;241m1\u001b[39m,:] \u001b[38;5;241m=\u001b[39m an_func(k)\n\u001b[1;32m--> 178\u001b[0m x \u001b[38;5;241m=\u001b[39m linalg\u001b[38;5;241m.\u001b[39meigvals_banded(c, overwrite_a_band\u001b[38;5;241m=\u001b[39m\u001b[38;5;28;01mTrue\u001b[39;00m)\n\u001b[0;32m    180\u001b[0m \u001b[38;5;66;03m# improve roots by one application of Newton's method\u001b[39;00m\n\u001b[0;32m    181\u001b[0m y \u001b[38;5;241m=\u001b[39m f(n, x)\n",
      "File \u001b[1;32m~\\anaconda3\\Lib\\site-packages\\scipy\\linalg\\_decomp.py:1118\u001b[0m, in \u001b[0;36meigvals_banded\u001b[1;34m(a_band, lower, overwrite_a_band, select, select_range, check_finite)\u001b[0m\n\u001b[0;32m   1030\u001b[0m \u001b[38;5;28;01mdef\u001b[39;00m \u001b[38;5;21meigvals_banded\u001b[39m(a_band, lower\u001b[38;5;241m=\u001b[39m\u001b[38;5;28;01mFalse\u001b[39;00m, overwrite_a_band\u001b[38;5;241m=\u001b[39m\u001b[38;5;28;01mFalse\u001b[39;00m,\n\u001b[0;32m   1031\u001b[0m                    select\u001b[38;5;241m=\u001b[39m\u001b[38;5;124m'\u001b[39m\u001b[38;5;124ma\u001b[39m\u001b[38;5;124m'\u001b[39m, select_range\u001b[38;5;241m=\u001b[39m\u001b[38;5;28;01mNone\u001b[39;00m, check_finite\u001b[38;5;241m=\u001b[39m\u001b[38;5;28;01mTrue\u001b[39;00m):\n\u001b[0;32m   1032\u001b[0m \u001b[38;5;250m    \u001b[39m\u001b[38;5;124;03m\"\"\"\u001b[39;00m\n\u001b[0;32m   1033\u001b[0m \u001b[38;5;124;03m    Solve real symmetric or complex Hermitian band matrix eigenvalue problem.\u001b[39;00m\n\u001b[0;32m   1034\u001b[0m \n\u001b[1;32m   (...)\u001b[0m\n\u001b[0;32m   1116\u001b[0m \u001b[38;5;124;03m    array([-4.26200532, -2.22987175,  3.95222349, 12.53965359])\u001b[39;00m\n\u001b[0;32m   1117\u001b[0m \u001b[38;5;124;03m    \"\"\"\u001b[39;00m\n\u001b[1;32m-> 1118\u001b[0m     \u001b[38;5;28;01mreturn\u001b[39;00m eig_banded(a_band, lower\u001b[38;5;241m=\u001b[39mlower, eigvals_only\u001b[38;5;241m=\u001b[39m\u001b[38;5;241m1\u001b[39m,\n\u001b[0;32m   1119\u001b[0m                       overwrite_a_band\u001b[38;5;241m=\u001b[39moverwrite_a_band, select\u001b[38;5;241m=\u001b[39mselect,\n\u001b[0;32m   1120\u001b[0m                       select_range\u001b[38;5;241m=\u001b[39mselect_range, check_finite\u001b[38;5;241m=\u001b[39mcheck_finite)\n",
      "File \u001b[1;32m~\\anaconda3\\Lib\\site-packages\\scipy\\linalg\\_decomp.py:795\u001b[0m, in \u001b[0;36meig_banded\u001b[1;34m(***failed resolving arguments***)\u001b[0m\n\u001b[0;32m    793\u001b[0m         internal_name \u001b[38;5;241m=\u001b[39m \u001b[38;5;124m'\u001b[39m\u001b[38;5;124msbevd\u001b[39m\u001b[38;5;124m'\u001b[39m\n\u001b[0;32m    794\u001b[0m     bevd, \u001b[38;5;241m=\u001b[39m get_lapack_funcs((internal_name,), (a1,))\n\u001b[1;32m--> 795\u001b[0m     w, v, info \u001b[38;5;241m=\u001b[39m bevd(a1, compute_v\u001b[38;5;241m=\u001b[39m\u001b[38;5;129;01mnot\u001b[39;00m eigvals_only,\n\u001b[0;32m    796\u001b[0m                       lower\u001b[38;5;241m=\u001b[39mlower, overwrite_ab\u001b[38;5;241m=\u001b[39moverwrite_a_band)\n\u001b[0;32m    797\u001b[0m \u001b[38;5;28;01melse\u001b[39;00m:  \u001b[38;5;66;03m# select in [1, 2]\u001b[39;00m\n\u001b[0;32m    798\u001b[0m     \u001b[38;5;28;01mif\u001b[39;00m eigvals_only:\n",
      "\u001b[1;31mKeyboardInterrupt\u001b[0m: "
     ]
    }
   ],
   "source": [
    "matrixZ_Gauss(100)"
   ]
  },
  {
   "cell_type": "code",
   "execution_count": 127,
   "id": "d3556917",
   "metadata": {},
   "outputs": [
    {
     "data": {
      "text/plain": [
       "array([-1.55290400e-11-7.49818223e-11j,  1.40610642e-07-2.00416178e-06j,\n",
       "       -1.54341220e-11-7.87186204e-11j,  1.28159455e-12+3.68352616e-11j,\n",
       "        5.41587520e-13-2.41725714e-11j])"
      ]
     },
     "execution_count": 127,
     "metadata": {},
     "output_type": "execute_result"
    }
   ],
   "source": [
    "V = [0,1,0,0,0]\n",
    "input_current(V,matrixZ_Gauss(100))"
   ]
  },
  {
   "cell_type": "code",
   "execution_count": 179,
   "id": "e50e9f2c",
   "metadata": {},
   "outputs": [],
   "source": [
    "def integrand(p, q, k, z):\n",
    "    global L_1, L_2, L_3\n",
    "    wavelength = 2 * math.pi / k\n",
    "    L_1 = [l * wavelength for l in l_1]\n",
    "    L_2 = [l * wavelength for l in l_2]\n",
    "    L_3 = [(x * wavelength, y * wavelength) for (x, y) in l_3]\n",
    "    h_p = L_1[p]/2\n",
    "    print(h_p)\n",
    "    h_q = L_1[q]/2\n",
    "    eta = 376.7 #sqrt(mu_0/epsilon_0)\n",
    "    z_1 = np.linspace(-h_q,h_q, 500)\n",
    "    if p == q:\n",
    "        d = L_2[p]\n",
    "    else:\n",
    "        d = math.sqrt((L_3[p][0] - L_3[q][0])**2+ (L_3[p][1] - L_3[q][1])**2)\n",
    "    R = np.sqrt((z - z_1)**2 + d**2)\n",
    "    \n",
    "    g = (np.exp(-k * R*1j))/R\n",
    "    exp_term = np.exp(-1j * k * R)\n",
    "    term1 = (1/R**3 - 1j*k/R**2) * exp_term  # Constant term\n",
    "    term2 = ((3/R**5 - 3*1j*k/R**4 - k**2/R**3) * (z - z_1)**2) * exp_term  # z² term\n",
    "    \n",
    "    g_sec = term1 + term2\n",
    "   \n",
    "    sinp = np.sin(k*(h_p - abs(z)))/(math.sin(k*h_p))\n",
    "    sinq = np.sin(k*(h_q- abs(z_1)))/(math.sin(k*h_q))\n",
    "    \n",
    "    #Define function\n",
    "    f_z = complex(0, eta/(4*math.pi*k))*sinp*sinq*(g*k**2+g_sec)\n",
    "   \n",
    "\n",
    "    # Plot it\n",
    "    plt.plot(z_1, abs(f_z))\n",
    "    plt.xlabel(\"z'\")\n",
    "    plt.ylabel(\"f(z')\")\n",
    "    plt.title(\"Plot of the integrand\")\n",
    "    plt.grid(True)\n",
    "    plt.show()"
   ]
  },
  {
   "cell_type": "code",
   "execution_count": 181,
   "id": "0b1f0e33",
   "metadata": {},
   "outputs": [
    {
     "name": "stdout",
     "output_type": "stream",
     "text": [
      "0.01350884841043611\n"
     ]
    },
    {
     "data": {
      "image/png": "[encoded data removed]",
      "text/plain": [
       "<Figure size 640x480 with 1 Axes>"
      ]
     },
     "metadata": {},
     "output_type": "display_data"
    }
   ],
   "source": [
    "integrand(2, 2, 100, 0.01)"
   ]
  },
  {
   "cell_type": "code",
   "execution_count": 12,
   "id": "70498014",
   "metadata": {},
   "outputs": [],
   "source": [
    "def G_new(p, q, k, z, z_1, L_1, L_2, L_3):\n",
    "   \n",
    "    \"\"\"\n",
    "\n",
    "    Parameters\n",
    "    ----------\n",
    "    p, q: antenna indexes\n",
    "    k : wavenumber\n",
    "    z : \n",
    "    z_1 : z'\n",
    "\n",
    "    Returns so called impedance kernel\n",
    "    -------\n",
    "    \"\"\"\n",
    "\n",
    "    #print(L_2)\n",
    "    if p == q:\n",
    "        d = L_2[p]\n",
    "    else:\n",
    "        d = math.sqrt((L_3[p][0] - L_3[q][0])**2+ (L_3[p][1] - L_3[q][1])**2)\n",
    "    #print(d)\n",
    "    R = math.sqrt((z - z_1)**2 + d**2)\n",
    "    if R < 1e-6:  # threshold for small distances\n",
    "        return 0 \n",
    "    #print(R)\n",
    "    return (cmath.exp(-k * R*1j))/R\n",
    "\n",
    "\n",
    "def Z_new(p, q, k):\n",
    "    \"\"\"\n",
    "    Compute the coefficient of entry (p, q) of the impedance matrix (after integration by part)\n",
    "\n",
    "    \"\"\"\n",
    "    global l_1, l_2, l_3\n",
    "    wavelength = 2*math.pi/k\n",
    "    L_1 = [l*wavelength for l in l_1]\n",
    "    L_2 = [l*wavelength for l in l_2]\n",
    "    L_3 = [(x*wavelength, y*wavelength) for (x, y) in l_3]\n",
    "    h_p = L_1[p]/2\n",
    "    h_q = L_1[q]/2\n",
    "    if p == q:\n",
    "        N = 400 \n",
    "    else:\n",
    "        N = 200\n",
    "    Z = 0\n",
    "    eta = 376.7 #sqrt(mu_0/epsilon_0)\n",
    "    \n",
    "    for n in range(-N//2, N//2+1):\n",
    "        z_1 = (n*2*h_q)/N\n",
    "        dz_1 = 2*h_q/N\n",
    "        g1 = G_new(p, q, k, h_p, z_1, L_1, L_2, L_3)\n",
    "        g2 = G_new(p, q, k, -h_p, z_1, L_1, L_2, L_3)\n",
    "        sinq = math.sin(k*(h_q- abs(z_1)))\n",
    "        Z += sinq*(g1+g2)*dz_1\n",
    "    Z = Z*(complex(0, eta/(4*math.pi)))*1/(np.sin(k*h_p)*np.sin(k*h_q))          \n",
    "    return Z   \n"
   ]
  },
  {
   "cell_type": "code",
   "execution_count": 13,
   "id": "05fb0634",
   "metadata": {},
   "outputs": [],
   "source": [
    "def matrixZ_new(k):\n",
    "    n = len(l_1) #nb of antennas\n",
    "    #matZ = np.matrix([[Z(p,q,k) for q in range(0,n)] for p in range(0,n)])\n",
    "    matZ= np.zeros((n, n), dtype=complex)\n",
    "    for p in range(0, n):\n",
    "        for q in range(0, p+1):\n",
    "            Z_pq =  Z_new(p,q,k)\n",
    "            if p == q:\n",
    "                matZ[p][q] = Z_pq\n",
    "            else:\n",
    "                matZ[p][q] = Z_pq\n",
    "                matZ[q][p] = Z_pq\n",
    "    return matZ"
   ]
  },
  {
   "cell_type": "code",
   "execution_count": 14,
   "id": "db5edd91",
   "metadata": {},
   "outputs": [
    {
     "data": {
      "text/plain": [
       "array([[ 73.91049445+40.27063447j, -12.61114448-31.10439472j,\n",
       "          3.39587774+19.11161941j,  -1.58417031-13.11870844j,\n",
       "          0.90712029 +9.94568442j],\n",
       "       [-12.61114448-31.10439472j,  72.27534739+42.52086294j,\n",
       "        -10.23162699-31.73933274j,   3.14416503+17.98177081j,\n",
       "         -1.46344295-12.33115125j],\n",
       "       [  3.39587774+19.11161941j, -10.23162699-31.73933274j,\n",
       "         68.400976  +50.73469862j,  -8.32722399-26.58855565j,\n",
       "          2.49960363+14.94067857j],\n",
       "       [ -1.58417031-13.11870844j,   3.14416503+17.98177081j,\n",
       "         -8.32722399-26.58855565j,  68.400976  +50.73469862j,\n",
       "         -8.32722399-26.58855565j],\n",
       "       [  0.90712029 +9.94568442j,  -1.46344295-12.33115125j,\n",
       "          2.49960363+14.94067857j,  -8.32722399-26.58855565j,\n",
       "         68.400976  +50.73469862j]])"
      ]
     },
     "execution_count": 14,
     "metadata": {},
     "output_type": "execute_result"
    }
   ],
   "source": [
    "matrixZ_new(10)"
   ]
  },
  {
   "cell_type": "code",
   "execution_count": 16,
   "id": "58c53467",
   "metadata": {},
   "outputs": [
    {
     "data": {
      "text/plain": [
       "array([ 0.00407084+0.0011931j ,  0.01247206-0.00324253j,\n",
       "        0.00378742+0.00077848j, -0.00106261+0.00027044j,\n",
       "        0.00065597-0.00015108j])"
      ]
     },
     "execution_count": 16,
     "metadata": {},
     "output_type": "execute_result"
    }
   ],
   "source": [
    "V = [0,1,0,0,0]\n",
    "input_current(V,matrixZ_new(10))"
   ]
  },
  {
   "cell_type": "code",
   "execution_count": 26,
   "id": "e9d7cbdf",
   "metadata": {},
   "outputs": [],
   "source": [
    "def radiation_U(k):\n",
    "    \"\"\"\n",
    "    radiation intensity for the SPECIFIC case of a Yagi Antenna, to be refine for other types\n",
    "    k: wavenumber of the emitted wave\n",
    "    \"\"\"\n",
    "    global l_1, l_2, l_3\n",
    "    wavelength = 2*math.pi/k\n",
    "    L_1 = [l*wavelength for l in l_1]\n",
    "    L_2 = [l*wavelength for l in l_2]\n",
    "    L_3 = [(x*wavelength, y*wavelength) for (x, y) in l_3]\n",
    "    \n",
    "    eta = 376.7 #sqrt(mu_0/epsilon_0)\n",
    "    theta = np.linspace(0, np.pi, 400)\n",
    "    #phi = np.linspace(0, 2*np.pi, 500) #for 3D plot\n",
    "    phi = 0 #choose expected direction of propagation for 2D plot\n",
    "    I = input_current(V,matrixZ_new(10))\n",
    "    U = np.zeros_like(theta, dtype=complex)  # to accumulate field\n",
    "    for p in range(0, len(L_1)):\n",
    "        h_p = L_1[p]/2\n",
    "        term1 = np.exp(1j*k*np.sin(theta)*L_3[p][0]*np.cos(phi))\n",
    "        term2 = (np.cos(k*h_p*np.cos(theta))-np.cos(k*h_p))/(np.sin(k*h_p*np.sin(theta)))\n",
    "        U += I[p]*term1*term2\n",
    "    U = eta/(8*np.pi**2)*abs(U)**2\n",
    "    \n",
    "    # Plot it\n",
    "    plt.plot(theta, U)\n",
    "    plt.xlabel(\"theta\")\n",
    "    plt.ylabel(\"U\")\n",
    "    plt.title(\"Radiation intensity U(theta)\")\n",
    "    plt.grid(True)\n",
    "    plt.show()"
   ]
  },
  {
   "cell_type": "code",
   "execution_count": 27,
   "id": "1c677d6d",
   "metadata": {},
   "outputs": [
    {
     "name": "stderr",
     "output_type": "stream",
     "text": [
      "C:\\Users\\mattc\\AppData\\Local\\Temp\\ipykernel_118820\\2670673738.py:21: RuntimeWarning: invalid value encountered in divide\n",
      "  term2 = (np.cos(k*h_p*np.cos(theta))-np.cos(k*h_p))/(np.sin(k*h_p*np.sin(theta)))\n"
     ]
    },
    {
     "data": {
      "image/png": "[encoded data removed]",
      "text/plain": [
       "<Figure size 640x480 with 1 Axes>"
      ]
     },
     "metadata": {},
     "output_type": "display_data"
    }
   ],
   "source": [
    "radiation_U(10)"
   ]
  },
  {
   "cell_type": "code",
   "execution_count": null,
   "id": "a428d9c2",
   "metadata": {},
   "outputs": [],
   "source": []
  }
 ],
 "metadata": {
  "kernelspec": {
   "display_name": "Python 3 (ipykernel)",
   "language": "python",
   "name": "python3"
  },
  "language_info": {
   "codemirror_mode": {
    "name": "ipython",
    "version": 3
   },
   "file_extension": ".py",
   "mimetype": "text/x-python",
   "name": "python",
   "nbconvert_exporter": "python",
   "pygments_lexer": "ipython3",
   "version": "3.11.4"
  }
 },
 "nbformat": 4,
 "nbformat_minor": 5
}
